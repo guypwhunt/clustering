{
 "metadata": {
  "language_info": {
   "codemirror_mode": {
    "name": "ipython",
    "version": 3
   },
   "file_extension": ".py",
   "mimetype": "text/x-python",
   "name": "python",
   "nbconvert_exporter": "python",
   "pygments_lexer": "ipython3",
   "version": "3.7.6-final"
  },
  "orig_nbformat": 2,
  "kernelspec": {
   "name": "python3",
   "display_name": "Python 3",
   "language": "python"
  }
 },
 "nbformat": 4,
 "nbformat_minor": 2,
 "cells": [
  {
   "source": [
    "# Regression Machine Learning"
   ],
   "cell_type": "markdown",
   "metadata": {}
  },
  {
   "cell_type": "code",
   "execution_count": 2,
   "metadata": {},
   "outputs": [],
   "source": [
    "# Import the neccessary libraries\n",
    "import pandas as pd"
   ]
  },
  {
   "source": [
    "## 1. The data was imported from a CSV into a dataframe. The first five records can be seen below"
   ],
   "cell_type": "markdown",
   "metadata": {}
  },
  {
   "cell_type": "code",
   "execution_count": 4,
   "metadata": {},
   "outputs": [
    {
     "output_type": "execute_result",
     "data": {
      "text/plain": [
       "   instant    dteday  season  yr  mnth  holiday  weekday  workingday  \\\n",
       "0        1  1/1/2011       1   0     1        0        6           0   \n",
       "1        2  1/2/2011       1   0     1        0        0           0   \n",
       "2        3  1/3/2011       1   0     1        0        1           1   \n",
       "3        4  1/4/2011       1   0     1        0        2           1   \n",
       "4        5  1/5/2011       1   0     1        0        3           1   \n",
       "\n",
       "   weathersit      temp     atemp       hum  windspeed  rentals  \n",
       "0           2  0.344167  0.363625  0.805833   0.160446      331  \n",
       "1           2  0.363478  0.353739  0.696087   0.248539      131  \n",
       "2           1  0.196364  0.189405  0.437273   0.248309      120  \n",
       "3           1  0.200000  0.212122  0.590435   0.160296      108  \n",
       "4           1  0.226957  0.229270  0.436957   0.186900       82  "
      ],
      "text/html": "<div>\n<style scoped>\n    .dataframe tbody tr th:only-of-type {\n        vertical-align: middle;\n    }\n\n    .dataframe tbody tr th {\n        vertical-align: top;\n    }\n\n    .dataframe thead th {\n        text-align: right;\n    }\n</style>\n<table border=\"1\" class=\"dataframe\">\n  <thead>\n    <tr style=\"text-align: right;\">\n      <th></th>\n      <th>instant</th>\n      <th>dteday</th>\n      <th>season</th>\n      <th>yr</th>\n      <th>mnth</th>\n      <th>holiday</th>\n      <th>weekday</th>\n      <th>workingday</th>\n      <th>weathersit</th>\n      <th>temp</th>\n      <th>atemp</th>\n      <th>hum</th>\n      <th>windspeed</th>\n      <th>rentals</th>\n    </tr>\n  </thead>\n  <tbody>\n    <tr>\n      <th>0</th>\n      <td>1</td>\n      <td>1/1/2011</td>\n      <td>1</td>\n      <td>0</td>\n      <td>1</td>\n      <td>0</td>\n      <td>6</td>\n      <td>0</td>\n      <td>2</td>\n      <td>0.344167</td>\n      <td>0.363625</td>\n      <td>0.805833</td>\n      <td>0.160446</td>\n      <td>331</td>\n    </tr>\n    <tr>\n      <th>1</th>\n      <td>2</td>\n      <td>1/2/2011</td>\n      <td>1</td>\n      <td>0</td>\n      <td>1</td>\n      <td>0</td>\n      <td>0</td>\n      <td>0</td>\n      <td>2</td>\n      <td>0.363478</td>\n      <td>0.353739</td>\n      <td>0.696087</td>\n      <td>0.248539</td>\n      <td>131</td>\n    </tr>\n    <tr>\n      <th>2</th>\n      <td>3</td>\n      <td>1/3/2011</td>\n      <td>1</td>\n      <td>0</td>\n      <td>1</td>\n      <td>0</td>\n      <td>1</td>\n      <td>1</td>\n      <td>1</td>\n      <td>0.196364</td>\n      <td>0.189405</td>\n      <td>0.437273</td>\n      <td>0.248309</td>\n      <td>120</td>\n    </tr>\n    <tr>\n      <th>3</th>\n      <td>4</td>\n      <td>1/4/2011</td>\n      <td>1</td>\n      <td>0</td>\n      <td>1</td>\n      <td>0</td>\n      <td>2</td>\n      <td>1</td>\n      <td>1</td>\n      <td>0.200000</td>\n      <td>0.212122</td>\n      <td>0.590435</td>\n      <td>0.160296</td>\n      <td>108</td>\n    </tr>\n    <tr>\n      <th>4</th>\n      <td>5</td>\n      <td>1/5/2011</td>\n      <td>1</td>\n      <td>0</td>\n      <td>1</td>\n      <td>0</td>\n      <td>3</td>\n      <td>1</td>\n      <td>1</td>\n      <td>0.226957</td>\n      <td>0.229270</td>\n      <td>0.436957</td>\n      <td>0.186900</td>\n      <td>82</td>\n    </tr>\n  </tbody>\n</table>\n</div>"
     },
     "metadata": {},
     "execution_count": 4
    }
   ],
   "source": [
    "bike_data = pd.read_csv('data/daily-bike-share.csv')\n",
    "bike_data.head()"
   ]
  },
  {
   "source": [
    "## 2. The feature 'day' was created from the column 'dteday' and added to the dataframe"
   ],
   "cell_type": "markdown",
   "metadata": {}
  },
  {
   "cell_type": "code",
   "execution_count": 6,
   "metadata": {},
   "outputs": [
    {
     "output_type": "execute_result",
     "data": {
      "text/plain": [
       "    instant     dteday  season  yr  mnth  holiday  weekday  workingday  \\\n",
       "0         1   1/1/2011       1   0     1        0        6           0   \n",
       "1         2   1/2/2011       1   0     1        0        0           0   \n",
       "2         3   1/3/2011       1   0     1        0        1           1   \n",
       "3         4   1/4/2011       1   0     1        0        2           1   \n",
       "4         5   1/5/2011       1   0     1        0        3           1   \n",
       "5         6   1/6/2011       1   0     1        0        4           1   \n",
       "6         7   1/7/2011       1   0     1        0        5           1   \n",
       "7         8   1/8/2011       1   0     1        0        6           0   \n",
       "8         9   1/9/2011       1   0     1        0        0           0   \n",
       "9        10  1/10/2011       1   0     1        0        1           1   \n",
       "10       11  1/11/2011       1   0     1        0        2           1   \n",
       "11       12  1/12/2011       1   0     1        0        3           1   \n",
       "12       13  1/13/2011       1   0     1        0        4           1   \n",
       "13       14  1/14/2011       1   0     1        0        5           1   \n",
       "14       15  1/15/2011       1   0     1        0        6           0   \n",
       "15       16  1/16/2011       1   0     1        0        0           0   \n",
       "16       17  1/17/2011       1   0     1        1        1           0   \n",
       "17       18  1/18/2011       1   0     1        0        2           1   \n",
       "18       19  1/19/2011       1   0     1        0        3           1   \n",
       "19       20  1/20/2011       1   0     1        0        4           1   \n",
       "20       21  1/21/2011       1   0     1        0        5           1   \n",
       "21       22  1/22/2011       1   0     1        0        6           0   \n",
       "22       23  1/23/2011       1   0     1        0        0           0   \n",
       "23       24  1/24/2011       1   0     1        0        1           1   \n",
       "24       25  1/25/2011       1   0     1        0        2           1   \n",
       "25       26  1/26/2011       1   0     1        0        3           1   \n",
       "26       27  1/27/2011       1   0     1        0        4           1   \n",
       "27       28  1/28/2011       1   0     1        0        5           1   \n",
       "28       29  1/29/2011       1   0     1        0        6           0   \n",
       "29       30  1/30/2011       1   0     1        0        0           0   \n",
       "30       31  1/31/2011       1   0     1        0        1           1   \n",
       "31       32   2/1/2011       1   0     2        0        2           1   \n",
       "\n",
       "    weathersit      temp     atemp       hum  windspeed  rentals  day  \n",
       "0            2  0.344167  0.363625  0.805833   0.160446      331    1  \n",
       "1            2  0.363478  0.353739  0.696087   0.248539      131    2  \n",
       "2            1  0.196364  0.189405  0.437273   0.248309      120    3  \n",
       "3            1  0.200000  0.212122  0.590435   0.160296      108    4  \n",
       "4            1  0.226957  0.229270  0.436957   0.186900       82    5  \n",
       "5            1  0.204348  0.233209  0.518261   0.089565       88    6  \n",
       "6            2  0.196522  0.208839  0.498696   0.168726      148    7  \n",
       "7            2  0.165000  0.162254  0.535833   0.266804       68    8  \n",
       "8            1  0.138333  0.116175  0.434167   0.361950       54    9  \n",
       "9            1  0.150833  0.150888  0.482917   0.223267       41   10  \n",
       "10           2  0.169091  0.191464  0.686364   0.122132       43   11  \n",
       "11           1  0.172727  0.160473  0.599545   0.304627       25   12  \n",
       "12           1  0.165000  0.150883  0.470417   0.301000       38   13  \n",
       "13           1  0.160870  0.188413  0.537826   0.126548       54   14  \n",
       "14           2  0.233333  0.248112  0.498750   0.157963      222   15  \n",
       "15           1  0.231667  0.234217  0.483750   0.188433      251   16  \n",
       "16           2  0.175833  0.176771  0.537500   0.194017      117   17  \n",
       "17           2  0.216667  0.232333  0.861667   0.146775        9   18  \n",
       "18           2  0.292174  0.298422  0.741739   0.208317       78   19  \n",
       "19           2  0.261667  0.255050  0.538333   0.195904       83   20  \n",
       "20           1  0.177500  0.157833  0.457083   0.353242       75   21  \n",
       "21           1  0.059130  0.079070  0.400000   0.171970       93   22  \n",
       "22           1  0.096522  0.098839  0.436522   0.246600      150   23  \n",
       "23           1  0.097391  0.117930  0.491739   0.158330       86   24  \n",
       "24           2  0.223478  0.234526  0.616957   0.129796      186   25  \n",
       "25           3  0.217500  0.203600  0.862500   0.293850       34   26  \n",
       "26           1  0.195000  0.219700  0.687500   0.113837       15   27  \n",
       "27           2  0.203478  0.223317  0.793043   0.123300       38   28  \n",
       "28           1  0.196522  0.212126  0.651739   0.145365      123   29  \n",
       "29           1  0.216522  0.250322  0.722174   0.073983      140   30  \n",
       "30           2  0.180833  0.186250  0.603750   0.187192       42   31  \n",
       "31           2  0.192174  0.234530  0.829565   0.053213       47    1  "
      ],
      "text/html": "<div>\n<style scoped>\n    .dataframe tbody tr th:only-of-type {\n        vertical-align: middle;\n    }\n\n    .dataframe tbody tr th {\n        vertical-align: top;\n    }\n\n    .dataframe thead th {\n        text-align: right;\n    }\n</style>\n<table border=\"1\" class=\"dataframe\">\n  <thead>\n    <tr style=\"text-align: right;\">\n      <th></th>\n      <th>instant</th>\n      <th>dteday</th>\n      <th>season</th>\n      <th>yr</th>\n      <th>mnth</th>\n      <th>holiday</th>\n      <th>weekday</th>\n      <th>workingday</th>\n      <th>weathersit</th>\n      <th>temp</th>\n      <th>atemp</th>\n      <th>hum</th>\n      <th>windspeed</th>\n      <th>rentals</th>\n      <th>day</th>\n    </tr>\n  </thead>\n  <tbody>\n    <tr>\n      <th>0</th>\n      <td>1</td>\n      <td>1/1/2011</td>\n      <td>1</td>\n      <td>0</td>\n      <td>1</td>\n      <td>0</td>\n      <td>6</td>\n      <td>0</td>\n      <td>2</td>\n      <td>0.344167</td>\n      <td>0.363625</td>\n      <td>0.805833</td>\n      <td>0.160446</td>\n      <td>331</td>\n      <td>1</td>\n    </tr>\n    <tr>\n      <th>1</th>\n      <td>2</td>\n      <td>1/2/2011</td>\n      <td>1</td>\n      <td>0</td>\n      <td>1</td>\n      <td>0</td>\n      <td>0</td>\n      <td>0</td>\n      <td>2</td>\n      <td>0.363478</td>\n      <td>0.353739</td>\n      <td>0.696087</td>\n      <td>0.248539</td>\n      <td>131</td>\n      <td>2</td>\n    </tr>\n    <tr>\n      <th>2</th>\n      <td>3</td>\n      <td>1/3/2011</td>\n      <td>1</td>\n      <td>0</td>\n      <td>1</td>\n      <td>0</td>\n      <td>1</td>\n      <td>1</td>\n      <td>1</td>\n      <td>0.196364</td>\n      <td>0.189405</td>\n      <td>0.437273</td>\n      <td>0.248309</td>\n      <td>120</td>\n      <td>3</td>\n    </tr>\n    <tr>\n      <th>3</th>\n      <td>4</td>\n      <td>1/4/2011</td>\n      <td>1</td>\n      <td>0</td>\n      <td>1</td>\n      <td>0</td>\n      <td>2</td>\n      <td>1</td>\n      <td>1</td>\n      <td>0.200000</td>\n      <td>0.212122</td>\n      <td>0.590435</td>\n      <td>0.160296</td>\n      <td>108</td>\n      <td>4</td>\n    </tr>\n    <tr>\n      <th>4</th>\n      <td>5</td>\n      <td>1/5/2011</td>\n      <td>1</td>\n      <td>0</td>\n      <td>1</td>\n      <td>0</td>\n      <td>3</td>\n      <td>1</td>\n      <td>1</td>\n      <td>0.226957</td>\n      <td>0.229270</td>\n      <td>0.436957</td>\n      <td>0.186900</td>\n      <td>82</td>\n      <td>5</td>\n    </tr>\n    <tr>\n      <th>5</th>\n      <td>6</td>\n      <td>1/6/2011</td>\n      <td>1</td>\n      <td>0</td>\n      <td>1</td>\n      <td>0</td>\n      <td>4</td>\n      <td>1</td>\n      <td>1</td>\n      <td>0.204348</td>\n      <td>0.233209</td>\n      <td>0.518261</td>\n      <td>0.089565</td>\n      <td>88</td>\n      <td>6</td>\n    </tr>\n    <tr>\n      <th>6</th>\n      <td>7</td>\n      <td>1/7/2011</td>\n      <td>1</td>\n      <td>0</td>\n      <td>1</td>\n      <td>0</td>\n      <td>5</td>\n      <td>1</td>\n      <td>2</td>\n      <td>0.196522</td>\n      <td>0.208839</td>\n      <td>0.498696</td>\n      <td>0.168726</td>\n      <td>148</td>\n      <td>7</td>\n    </tr>\n    <tr>\n      <th>7</th>\n      <td>8</td>\n      <td>1/8/2011</td>\n      <td>1</td>\n      <td>0</td>\n      <td>1</td>\n      <td>0</td>\n      <td>6</td>\n      <td>0</td>\n      <td>2</td>\n      <td>0.165000</td>\n      <td>0.162254</td>\n      <td>0.535833</td>\n      <td>0.266804</td>\n      <td>68</td>\n      <td>8</td>\n    </tr>\n    <tr>\n      <th>8</th>\n      <td>9</td>\n      <td>1/9/2011</td>\n      <td>1</td>\n      <td>0</td>\n      <td>1</td>\n      <td>0</td>\n      <td>0</td>\n      <td>0</td>\n      <td>1</td>\n      <td>0.138333</td>\n      <td>0.116175</td>\n      <td>0.434167</td>\n      <td>0.361950</td>\n      <td>54</td>\n      <td>9</td>\n    </tr>\n    <tr>\n      <th>9</th>\n      <td>10</td>\n      <td>1/10/2011</td>\n      <td>1</td>\n      <td>0</td>\n      <td>1</td>\n      <td>0</td>\n      <td>1</td>\n      <td>1</td>\n      <td>1</td>\n      <td>0.150833</td>\n      <td>0.150888</td>\n      <td>0.482917</td>\n      <td>0.223267</td>\n      <td>41</td>\n      <td>10</td>\n    </tr>\n    <tr>\n      <th>10</th>\n      <td>11</td>\n      <td>1/11/2011</td>\n      <td>1</td>\n      <td>0</td>\n      <td>1</td>\n      <td>0</td>\n      <td>2</td>\n      <td>1</td>\n      <td>2</td>\n      <td>0.169091</td>\n      <td>0.191464</td>\n      <td>0.686364</td>\n      <td>0.122132</td>\n      <td>43</td>\n      <td>11</td>\n    </tr>\n    <tr>\n      <th>11</th>\n      <td>12</td>\n      <td>1/12/2011</td>\n      <td>1</td>\n      <td>0</td>\n      <td>1</td>\n      <td>0</td>\n      <td>3</td>\n      <td>1</td>\n      <td>1</td>\n      <td>0.172727</td>\n      <td>0.160473</td>\n      <td>0.599545</td>\n      <td>0.304627</td>\n      <td>25</td>\n      <td>12</td>\n    </tr>\n    <tr>\n      <th>12</th>\n      <td>13</td>\n      <td>1/13/2011</td>\n      <td>1</td>\n      <td>0</td>\n      <td>1</td>\n      <td>0</td>\n      <td>4</td>\n      <td>1</td>\n      <td>1</td>\n      <td>0.165000</td>\n      <td>0.150883</td>\n      <td>0.470417</td>\n      <td>0.301000</td>\n      <td>38</td>\n      <td>13</td>\n    </tr>\n    <tr>\n      <th>13</th>\n      <td>14</td>\n      <td>1/14/2011</td>\n      <td>1</td>\n      <td>0</td>\n      <td>1</td>\n      <td>0</td>\n      <td>5</td>\n      <td>1</td>\n      <td>1</td>\n      <td>0.160870</td>\n      <td>0.188413</td>\n      <td>0.537826</td>\n      <td>0.126548</td>\n      <td>54</td>\n      <td>14</td>\n    </tr>\n    <tr>\n      <th>14</th>\n      <td>15</td>\n      <td>1/15/2011</td>\n      <td>1</td>\n      <td>0</td>\n      <td>1</td>\n      <td>0</td>\n      <td>6</td>\n      <td>0</td>\n      <td>2</td>\n      <td>0.233333</td>\n      <td>0.248112</td>\n      <td>0.498750</td>\n      <td>0.157963</td>\n      <td>222</td>\n      <td>15</td>\n    </tr>\n    <tr>\n      <th>15</th>\n      <td>16</td>\n      <td>1/16/2011</td>\n      <td>1</td>\n      <td>0</td>\n      <td>1</td>\n      <td>0</td>\n      <td>0</td>\n      <td>0</td>\n      <td>1</td>\n      <td>0.231667</td>\n      <td>0.234217</td>\n      <td>0.483750</td>\n      <td>0.188433</td>\n      <td>251</td>\n      <td>16</td>\n    </tr>\n    <tr>\n      <th>16</th>\n      <td>17</td>\n      <td>1/17/2011</td>\n      <td>1</td>\n      <td>0</td>\n      <td>1</td>\n      <td>1</td>\n      <td>1</td>\n      <td>0</td>\n      <td>2</td>\n      <td>0.175833</td>\n      <td>0.176771</td>\n      <td>0.537500</td>\n      <td>0.194017</td>\n      <td>117</td>\n      <td>17</td>\n    </tr>\n    <tr>\n      <th>17</th>\n      <td>18</td>\n      <td>1/18/2011</td>\n      <td>1</td>\n      <td>0</td>\n      <td>1</td>\n      <td>0</td>\n      <td>2</td>\n      <td>1</td>\n      <td>2</td>\n      <td>0.216667</td>\n      <td>0.232333</td>\n      <td>0.861667</td>\n      <td>0.146775</td>\n      <td>9</td>\n      <td>18</td>\n    </tr>\n    <tr>\n      <th>18</th>\n      <td>19</td>\n      <td>1/19/2011</td>\n      <td>1</td>\n      <td>0</td>\n      <td>1</td>\n      <td>0</td>\n      <td>3</td>\n      <td>1</td>\n      <td>2</td>\n      <td>0.292174</td>\n      <td>0.298422</td>\n      <td>0.741739</td>\n      <td>0.208317</td>\n      <td>78</td>\n      <td>19</td>\n    </tr>\n    <tr>\n      <th>19</th>\n      <td>20</td>\n      <td>1/20/2011</td>\n      <td>1</td>\n      <td>0</td>\n      <td>1</td>\n      <td>0</td>\n      <td>4</td>\n      <td>1</td>\n      <td>2</td>\n      <td>0.261667</td>\n      <td>0.255050</td>\n      <td>0.538333</td>\n      <td>0.195904</td>\n      <td>83</td>\n      <td>20</td>\n    </tr>\n    <tr>\n      <th>20</th>\n      <td>21</td>\n      <td>1/21/2011</td>\n      <td>1</td>\n      <td>0</td>\n      <td>1</td>\n      <td>0</td>\n      <td>5</td>\n      <td>1</td>\n      <td>1</td>\n      <td>0.177500</td>\n      <td>0.157833</td>\n      <td>0.457083</td>\n      <td>0.353242</td>\n      <td>75</td>\n      <td>21</td>\n    </tr>\n    <tr>\n      <th>21</th>\n      <td>22</td>\n      <td>1/22/2011</td>\n      <td>1</td>\n      <td>0</td>\n      <td>1</td>\n      <td>0</td>\n      <td>6</td>\n      <td>0</td>\n      <td>1</td>\n      <td>0.059130</td>\n      <td>0.079070</td>\n      <td>0.400000</td>\n      <td>0.171970</td>\n      <td>93</td>\n      <td>22</td>\n    </tr>\n    <tr>\n      <th>22</th>\n      <td>23</td>\n      <td>1/23/2011</td>\n      <td>1</td>\n      <td>0</td>\n      <td>1</td>\n      <td>0</td>\n      <td>0</td>\n      <td>0</td>\n      <td>1</td>\n      <td>0.096522</td>\n      <td>0.098839</td>\n      <td>0.436522</td>\n      <td>0.246600</td>\n      <td>150</td>\n      <td>23</td>\n    </tr>\n    <tr>\n      <th>23</th>\n      <td>24</td>\n      <td>1/24/2011</td>\n      <td>1</td>\n      <td>0</td>\n      <td>1</td>\n      <td>0</td>\n      <td>1</td>\n      <td>1</td>\n      <td>1</td>\n      <td>0.097391</td>\n      <td>0.117930</td>\n      <td>0.491739</td>\n      <td>0.158330</td>\n      <td>86</td>\n      <td>24</td>\n    </tr>\n    <tr>\n      <th>24</th>\n      <td>25</td>\n      <td>1/25/2011</td>\n      <td>1</td>\n      <td>0</td>\n      <td>1</td>\n      <td>0</td>\n      <td>2</td>\n      <td>1</td>\n      <td>2</td>\n      <td>0.223478</td>\n      <td>0.234526</td>\n      <td>0.616957</td>\n      <td>0.129796</td>\n      <td>186</td>\n      <td>25</td>\n    </tr>\n    <tr>\n      <th>25</th>\n      <td>26</td>\n      <td>1/26/2011</td>\n      <td>1</td>\n      <td>0</td>\n      <td>1</td>\n      <td>0</td>\n      <td>3</td>\n      <td>1</td>\n      <td>3</td>\n      <td>0.217500</td>\n      <td>0.203600</td>\n      <td>0.862500</td>\n      <td>0.293850</td>\n      <td>34</td>\n      <td>26</td>\n    </tr>\n    <tr>\n      <th>26</th>\n      <td>27</td>\n      <td>1/27/2011</td>\n      <td>1</td>\n      <td>0</td>\n      <td>1</td>\n      <td>0</td>\n      <td>4</td>\n      <td>1</td>\n      <td>1</td>\n      <td>0.195000</td>\n      <td>0.219700</td>\n      <td>0.687500</td>\n      <td>0.113837</td>\n      <td>15</td>\n      <td>27</td>\n    </tr>\n    <tr>\n      <th>27</th>\n      <td>28</td>\n      <td>1/28/2011</td>\n      <td>1</td>\n      <td>0</td>\n      <td>1</td>\n      <td>0</td>\n      <td>5</td>\n      <td>1</td>\n      <td>2</td>\n      <td>0.203478</td>\n      <td>0.223317</td>\n      <td>0.793043</td>\n      <td>0.123300</td>\n      <td>38</td>\n      <td>28</td>\n    </tr>\n    <tr>\n      <th>28</th>\n      <td>29</td>\n      <td>1/29/2011</td>\n      <td>1</td>\n      <td>0</td>\n      <td>1</td>\n      <td>0</td>\n      <td>6</td>\n      <td>0</td>\n      <td>1</td>\n      <td>0.196522</td>\n      <td>0.212126</td>\n      <td>0.651739</td>\n      <td>0.145365</td>\n      <td>123</td>\n      <td>29</td>\n    </tr>\n    <tr>\n      <th>29</th>\n      <td>30</td>\n      <td>1/30/2011</td>\n      <td>1</td>\n      <td>0</td>\n      <td>1</td>\n      <td>0</td>\n      <td>0</td>\n      <td>0</td>\n      <td>1</td>\n      <td>0.216522</td>\n      <td>0.250322</td>\n      <td>0.722174</td>\n      <td>0.073983</td>\n      <td>140</td>\n      <td>30</td>\n    </tr>\n    <tr>\n      <th>30</th>\n      <td>31</td>\n      <td>1/31/2011</td>\n      <td>1</td>\n      <td>0</td>\n      <td>1</td>\n      <td>0</td>\n      <td>1</td>\n      <td>1</td>\n      <td>2</td>\n      <td>0.180833</td>\n      <td>0.186250</td>\n      <td>0.603750</td>\n      <td>0.187192</td>\n      <td>42</td>\n      <td>31</td>\n    </tr>\n    <tr>\n      <th>31</th>\n      <td>32</td>\n      <td>2/1/2011</td>\n      <td>1</td>\n      <td>0</td>\n      <td>2</td>\n      <td>0</td>\n      <td>2</td>\n      <td>1</td>\n      <td>2</td>\n      <td>0.192174</td>\n      <td>0.234530</td>\n      <td>0.829565</td>\n      <td>0.053213</td>\n      <td>47</td>\n      <td>1</td>\n    </tr>\n  </tbody>\n</table>\n</div>"
     },
     "metadata": {},
     "execution_count": 6
    }
   ],
   "source": [
    "bike_data['day'] = pd.DatetimeIndex(bike_data['dteday']).day\n",
    "bike_data.head()"
   ]
  },
  {
   "cell_type": "code",
   "execution_count": null,
   "metadata": {},
   "outputs": [],
   "source": []
  }
 ]
}