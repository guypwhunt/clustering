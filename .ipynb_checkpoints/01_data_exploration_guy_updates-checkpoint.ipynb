{
 "cells": [
  {
   "cell_type": "code",
   "execution_count": 2,
   "metadata": {},
   "outputs": [
    {
     "name": "stdout",
     "output_type": "stream",
     "text": [
      "[50, 50, 47, 97, 49, 3, 53, 42, 26, 74, 82, 62, 37, 15, 70, 27, 36, 35, 48, 52, 63, 64]\n"
     ]
    }
   ],
   "source": [
    "# Exploring data arrays with NumPy\n",
    "\n",
    "# Lets start by looking at some simple data in a list format\n",
    "# Suppose a college takes a sample of student grades for a data science class.\n",
    "data = [50,50,47,97,49,3,53,42,26,74,82,62,37,15,70,27,36,35,48,52,63,64]\n",
    "print(data)"
   ]
  },
  {
   "cell_type": "code",
   "execution_count": 3,
   "metadata": {},
   "outputs": [
    {
     "name": "stdout",
     "output_type": "stream",
     "text": [
      "[50 50 47 97 49  3 53 42 26 74 82 62 37 15 70 27 36 35 48 52 63 64]\n"
     ]
    }
   ],
   "source": [
    "# The data above has been loaded into a Python list structure, which is a good data type for general data manipulation, but not optimized for numeric analysis. For that, we're going to use the NumPy package, which includes specific data types and functions for working with Numbers in Python.\n",
    "import numpy as np\n",
    "\n",
    "grades = np.array(data)\n",
    "print(grades)"
   ]
  },
  {
   "cell_type": "code",
   "execution_count": 4,
   "metadata": {},
   "outputs": [
    {
     "name": "stdout",
     "output_type": "stream",
     "text": [
      "<class 'list'> x 2: [50, 50, 47, 97, 49, 3, 53, 42, 26, 74, 82, 62, 37, 15, 70, 27, 36, 35, 48, 52, 63, 64, 50, 50, 47, 97, 49, 3, 53, 42, 26, 74, 82, 62, 37, 15, 70, 27, 36, 35, 48, 52, 63, 64]\n",
      "\n",
      "\n",
      "<class 'numpy.ndarray'> x 2: [100 100  94 194  98   6 106  84  52 148 164 124  74  30 140  54  72  70\n",
      "  96 104 126 128]\n"
     ]
    }
   ],
   "source": [
    "# Compare how the list and a NumPy array behave when we use them in an expression that multiplies them by 2.\n",
    "print (type(data),'x 2:', data * 2)\n",
    "print('\\n')\n",
    "print (type(grades),'x 2:', grades * 2)"
   ]
  },
  {
   "cell_type": "code",
   "execution_count": 5,
   "metadata": {},
   "outputs": [
    {
     "name": "stdout",
     "output_type": "stream",
     "text": [
      "(22,)\n"
     ]
    }
   ],
   "source": [
    "# the class type for the numpy array above is a numpy.ndarray. The nd indicates that this is a structure that can consists of multiple dimensions (it can have n dimensions). Our specific instance has a single dimension of student grades.\n",
    "print(grades.shape)"
   ]
  },
  {
   "cell_type": "code",
   "execution_count": 6,
   "metadata": {},
   "outputs": [
    {
     "name": "stdout",
     "output_type": "stream",
     "text": [
      "50\n"
     ]
    }
   ],
   "source": [
    "# Look at the first record in the numpy array\n",
    "print(grades[0])"
   ]
  },
  {
   "cell_type": "code",
   "execution_count": 7,
   "metadata": {},
   "outputs": [
    {
     "name": "stdout",
     "output_type": "stream",
     "text": [
      "49.18181818181818\n"
     ]
    }
   ],
   "source": [
    "# You can apply aggregations across the elements in the array, so let's find the simple average grade (in other words, the mean grade value).\n",
    "print(grades.mean())"
   ]
  },
  {
   "cell_type": "code",
   "execution_count": 8,
   "metadata": {},
   "outputs": [
    {
     "name": "stdout",
     "output_type": "stream",
     "text": [
      "[[10.   11.5   9.   16.    9.25  1.   11.5   9.    8.5  14.5  15.5  13.75\n",
      "   9.    8.   15.5   8.    9.    6.   10.   12.   12.5  12.  ]\n",
      " [50.   50.   47.   97.   49.    3.   53.   42.   26.   74.   82.   62.\n",
      "  37.   15.   70.   27.   36.   35.   48.   52.   63.   64.  ]]\n"
     ]
    }
   ],
   "source": [
    "# Let's add a second set of data for the same students, this time recording the typical number of hours per week they devoted to studying.\n",
    "# Define an array of study hours\n",
    "study_hours = [10.0,11.5,9.0,16.0,9.25,1.0,11.5,9.0,8.5,14.5,15.5,\n",
    "               13.75,9.0,8.0,15.5,8.0,9.0,6.0,10.0,12.0,12.5,12.0]\n",
    "# Create a 2D array (an array of arrays)\n",
    "student_data = np.array([study_hours,grades])\n",
    "# display the array\n",
    "print(student_data)"
   ]
  },
  {
   "cell_type": "code",
   "execution_count": 9,
   "metadata": {},
   "outputs": [
    {
     "name": "stdout",
     "output_type": "stream",
     "text": [
      "(2, 22)\n"
     ]
    }
   ],
   "source": [
    "# Now the data consists of a 2-dimensional array - an array of arrays. Let's look at its shape.\n",
    "print(student_data.shape)"
   ]
  },
  {
   "cell_type": "code",
   "execution_count": 10,
   "metadata": {},
   "outputs": [
    {
     "name": "stdout",
     "output_type": "stream",
     "text": [
      "10.0\n"
     ]
    }
   ],
   "source": [
    "# To navigate this structure, you need to specify the position of each element in the hierarchy. So to find the first value in the first array (which contains the study hours data), you can use the following code.\n",
    "print(student_data[0][0])"
   ]
  },
  {
   "cell_type": "code",
   "execution_count": 12,
   "metadata": {},
   "outputs": [
    {
     "name": "stdout",
     "output_type": "stream",
     "text": [
      "Average study hours: 10.522727272727273 \n",
      "Average grades : 49.18181818181818\n"
     ]
    }
   ],
   "source": [
    "# Now you have a multidimensional array containing both the student's study time and grade information, which you can use to compare data. For example, how does the mean study time compare to the mean grade?\n",
    "avg_study = student_data[0].mean()\n",
    "avg_grade = student_data[1].mean()\n",
    "print(f'Average study hours: {avg_study} \\nAverage grades : {avg_grade}')"
   ]
  },
  {
   "cell_type": "code",
   "execution_count": 13,
   "metadata": {},
   "outputs": [
    {
     "name": "stdout",
     "output_type": "stream",
     "text": [
      "         Name  StudyHours  Grade\n",
      "0         Dan       10.00   50.0\n",
      "1       Joann       11.50   50.0\n",
      "2       Pedro        9.00   47.0\n",
      "3       Rosie       16.00   97.0\n",
      "4       Ethan        9.25   49.0\n",
      "5       Vicky        1.00    3.0\n",
      "6    Frederic       11.50   53.0\n",
      "7      Jimmie        9.00   42.0\n",
      "8      Rhonda        8.50   26.0\n",
      "9    Giovanni       14.50   74.0\n",
      "10  Francesca       15.50   82.0\n",
      "11      Rajab       13.75   62.0\n",
      "12    Naiyana        9.00   37.0\n",
      "13       Kian        8.00   15.0\n",
      "14      Jenny       15.50   70.0\n",
      "15     Jakeem        8.00   27.0\n",
      "16     Helena        9.00   36.0\n",
      "17      Ismat        6.00   35.0\n",
      "18      Anila       10.00   48.0\n",
      "19       Skye       12.00   52.0\n",
      "20     Daniel       12.50   63.0\n",
      "21      Aisha       12.00   64.0\n"
     ]
    }
   ],
   "source": [
    "# Run the following cell to import the Pandas library and create a DataFrame with three columns. The first column is a list of student names, and the second and third columns are the NumPy arrays containing the study time and grade data.\n",
    "import pandas as pd\n",
    "\n",
    "df_students = pd.DataFrame({'Name': ['Dan', 'Joann', 'Pedro', 'Rosie', 'Ethan', 'Vicky', 'Frederic', 'Jimmie', \n",
    "                                     'Rhonda', 'Giovanni', 'Francesca', 'Rajab', 'Naiyana', 'Kian', 'Jenny',\n",
    "                                     'Jakeem','Helena','Ismat','Anila','Skye','Daniel','Aisha'],\n",
    "                                     'StudyHours':student_data[0],\n",
    "                                     'Grade': student_data[1]})\n",
    "\n",
    "print(df_students)"
   ]
  },
  {
   "cell_type": "code",
   "execution_count": 14,
   "metadata": {},
   "outputs": [
    {
     "name": "stdout",
     "output_type": "stream",
     "text": [
      "Name          Vicky\n",
      "StudyHours        1\n",
      "Grade             3\n",
      "Name: 5, dtype: object\n"
     ]
    }
   ],
   "source": [
    "# You can use the DataFrame's loc method to retrieve data for a specific index value, like this.\n",
    "print(df_students.loc[5])"
   ]
  },
  {
   "cell_type": "code",
   "execution_count": 15,
   "metadata": {},
   "outputs": [
    {
     "name": "stdout",
     "output_type": "stream",
     "text": [
      "    Name  StudyHours  Grade\n",
      "0    Dan       10.00   50.0\n",
      "1  Joann       11.50   50.0\n",
      "2  Pedro        9.00   47.0\n",
      "3  Rosie       16.00   97.0\n",
      "4  Ethan        9.25   49.0\n"
     ]
    }
   ],
   "source": [
    "# You can also get the data at a range of index values, like this:\n",
    "print(df_students[0:5])"
   ]
  },
  {
   "cell_type": "code",
   "execution_count": 16,
   "metadata": {},
   "outputs": [
    {
     "name": "stdout",
     "output_type": "stream",
     "text": [
      "    Name  StudyHours  Grade\n",
      "0    Dan       10.00   50.0\n",
      "1  Joann       11.50   50.0\n",
      "2  Pedro        9.00   47.0\n",
      "3  Rosie       16.00   97.0\n",
      "4  Ethan        9.25   49.0\n"
     ]
    }
   ],
   "source": [
    "# In addition to being able to use the loc method to find rows based on the index, you can use the iloc method to find rows based on their ordinal position in the DataFrame (regardless of the index):\n",
    "print(df_students.iloc[0:5])"
   ]
  },
  {
   "cell_type": "code",
   "execution_count": 17,
   "metadata": {},
   "outputs": [
    {
     "name": "stdout",
     "output_type": "stream",
     "text": [
      "StudyHours    10\n",
      "Grade         50\n",
      "Name: 0, dtype: object\n"
     ]
    }
   ],
   "source": [
    "# iloc identifies data values in a DataFrame by position, which extends beyond rows to columns. So for example, you can use it to find the values for the columns in positions 1 and 2 in row 0, like this:\n",
    "print(df_students.iloc[0,[1,2]])"
   ]
  },
  {
   "cell_type": "code",
   "execution_count": 18,
   "metadata": {},
   "outputs": [
    {
     "name": "stdout",
     "output_type": "stream",
     "text": [
      "50.0\n"
     ]
    }
   ],
   "source": [
    "# loc is used to locate data items based on index values rather than positions. In the absence of an explicit index column, the rows in our dataframe are indexed as integer values, but the columns are identified by name:\n",
    "print(df_students.loc[0,'Grade'])"
   ]
  },
  {
   "cell_type": "code",
   "execution_count": 19,
   "metadata": {},
   "outputs": [
    {
     "name": "stdout",
     "output_type": "stream",
     "text": [
      "     Name  StudyHours  Grade\n",
      "21  Aisha        12.0   64.0\n"
     ]
    }
   ],
   "source": [
    "# You can use the loc method to find indexed rows based on a filtering expression that references named columns other than the index, like this:\n",
    "print(df_students.loc[df_students['Name'] == 'Aisha'])"
   ]
  },
  {
   "cell_type": "code",
   "execution_count": 20,
   "metadata": {},
   "outputs": [
    {
     "name": "stdout",
     "output_type": "stream",
     "text": [
      "     Name  StudyHours  Grade\n",
      "21  Aisha        12.0   64.0\n"
     ]
    }
   ],
   "source": [
    "# Actually, you don't need to explicitly use the loc method to do this - you can simply apply a DataFrame filtering expression, like this:\n",
    "print(df_students[df_students['Name']=='Aisha'])"
   ]
  },
  {
   "cell_type": "code",
   "execution_count": 21,
   "metadata": {},
   "outputs": [
    {
     "name": "stdout",
     "output_type": "stream",
     "text": [
      "     Name  StudyHours  Grade\n",
      "21  Aisha        12.0   64.0\n"
     ]
    }
   ],
   "source": [
    "# And for good measure, you can achieve the same results by using the DataFrame's query method, like this:\n",
    "print(df_students.query('Name==\"Aisha\"'))"
   ]
  },
  {
   "cell_type": "code",
   "execution_count": 22,
   "metadata": {},
   "outputs": [
    {
     "name": "stdout",
     "output_type": "stream",
     "text": [
      "     Name  StudyHours  Grade\n",
      "21  Aisha        12.0   64.0\n"
     ]
    }
   ],
   "source": [
    "# You can specify the column name as a named index value (as in the df_students['Name'] examples we've seen so far), or you can use the column as a property of the DataFrame, like this:\n",
    "print(df_students[df_students.Name == 'Aisha'])"
   ]
  },
  {
   "cell_type": "code",
   "execution_count": 23,
   "metadata": {},
   "outputs": [
    {
     "name": "stdout",
     "output_type": "stream",
     "text": [
      "    Name  StudyHours  Grade\n",
      "0    Dan       10.00   50.0\n",
      "1  Joann       11.50   50.0\n",
      "2  Pedro        9.00   47.0\n",
      "3  Rosie       16.00   97.0\n",
      "4  Ethan        9.25   49.0\n"
     ]
    }
   ],
   "source": [
    "# Loading a DataFrame from a file\n",
    "df_students = pd.read_csv('data/grades.csv',delimiter=',',header='infer')\n",
    "print(df_students.head())"
   ]
  },
  {
   "cell_type": "code",
   "execution_count": 24,
   "metadata": {},
   "outputs": [
    {
     "name": "stdout",
     "output_type": "stream",
     "text": [
      "     Name  StudyHours  Grade\n",
      "0   False       False  False\n",
      "1   False       False  False\n",
      "2   False       False  False\n",
      "3   False       False  False\n",
      "4   False       False  False\n",
      "5   False       False  False\n",
      "6   False       False  False\n",
      "7   False       False  False\n",
      "8   False       False  False\n",
      "9   False       False  False\n",
      "10  False       False  False\n",
      "11  False       False  False\n",
      "12  False       False  False\n",
      "13  False       False  False\n",
      "14  False       False  False\n",
      "15  False       False  False\n",
      "16  False       False  False\n",
      "17  False       False  False\n",
      "18  False       False  False\n",
      "19  False       False  False\n",
      "20  False       False  False\n",
      "21  False       False  False\n",
      "22  False       False   True\n",
      "23  False        True   True\n"
     ]
    }
   ],
   "source": [
    "# Handling missing values\n",
    "# One of the most common issues data scientists need to deal with is incomplete or missing data. So how would we know that the DataFrame contains missing values? You can use the isnull method to identify which individual values are null, like this:\n",
    "print(df_students.isnull())"
   ]
  },
  {
   "cell_type": "code",
   "execution_count": 25,
   "metadata": {},
   "outputs": [
    {
     "name": "stdout",
     "output_type": "stream",
     "text": [
      "Name          0\n",
      "StudyHours    1\n",
      "Grade         2\n",
      "dtype: int64\n"
     ]
    }
   ],
   "source": [
    "# Of course, with a larger DataFrame, it would be inefficient to review all of the rows and columns individually; so we can get the sum of missing values for each column, like this:\n",
    "print(df_students.isnull().sum())"
   ]
  },
  {
   "cell_type": "code",
   "execution_count": 26,
   "metadata": {},
   "outputs": [
    {
     "name": "stdout",
     "output_type": "stream",
     "text": [
      "    Name  StudyHours  Grade\n",
      "22  Bill         8.0    NaN\n",
      "23   Ted         NaN    NaN\n"
     ]
    }
   ],
   "source": [
    "# we can filter the dataframe to include only rows where any of the columns (axis 1 of the DataFrame) are null.\n",
    "print(df_students[df_students.isnull().any(axis=1)])"
   ]
  },
  {
   "cell_type": "code",
   "execution_count": 27,
   "metadata": {},
   "outputs": [
    {
     "name": "stdout",
     "output_type": "stream",
     "text": [
      "         Name  StudyHours  Grade\n",
      "0         Dan   10.000000   50.0\n",
      "1       Joann   11.500000   50.0\n",
      "2       Pedro    9.000000   47.0\n",
      "3       Rosie   16.000000   97.0\n",
      "4       Ethan    9.250000   49.0\n",
      "5       Vicky    1.000000    3.0\n",
      "6    Frederic   11.500000   53.0\n",
      "7      Jimmie    9.000000   42.0\n",
      "8      Rhonda    8.500000   26.0\n",
      "9    Giovanni   14.500000   74.0\n",
      "10  Francesca   15.500000   82.0\n",
      "11      Rajab   13.750000   62.0\n",
      "12    Naiyana    9.000000   37.0\n",
      "13       Kian    8.000000   15.0\n",
      "14      Jenny   15.500000   70.0\n",
      "15     Jakeem    8.000000   27.0\n",
      "16     Helena    9.000000   36.0\n",
      "17      Ismat    6.000000   35.0\n",
      "18      Anila   10.000000   48.0\n",
      "19       Skye   12.000000   52.0\n",
      "20     Daniel   12.500000   63.0\n",
      "21      Aisha   12.000000   64.0\n",
      "22       Bill    8.000000    NaN\n",
      "23        Ted   10.413043    NaN\n"
     ]
    }
   ],
   "source": [
    "# One common approach is to impute replacement values. For example, if the number of study hours is missing, we could just assume that the student studied for an average amount of time and replace the missing value with the mean study hours. To do this, we can use the fillna method, like this:\n",
    "df_students.StudyHours = df_students.StudyHours.fillna(df_students.StudyHours.mean())\n",
    "print(df_students)"
   ]
  },
  {
   "cell_type": "code",
   "execution_count": 28,
   "metadata": {},
   "outputs": [
    {
     "name": "stdout",
     "output_type": "stream",
     "text": [
      "         Name  StudyHours  Grade\n",
      "0         Dan       10.00   50.0\n",
      "1       Joann       11.50   50.0\n",
      "2       Pedro        9.00   47.0\n",
      "3       Rosie       16.00   97.0\n",
      "4       Ethan        9.25   49.0\n",
      "5       Vicky        1.00    3.0\n",
      "6    Frederic       11.50   53.0\n",
      "7      Jimmie        9.00   42.0\n",
      "8      Rhonda        8.50   26.0\n",
      "9    Giovanni       14.50   74.0\n",
      "10  Francesca       15.50   82.0\n",
      "11      Rajab       13.75   62.0\n",
      "12    Naiyana        9.00   37.0\n",
      "13       Kian        8.00   15.0\n",
      "14      Jenny       15.50   70.0\n",
      "15     Jakeem        8.00   27.0\n",
      "16     Helena        9.00   36.0\n",
      "17      Ismat        6.00   35.0\n",
      "18      Anila       10.00   48.0\n",
      "19       Skye       12.00   52.0\n",
      "20     Daniel       12.50   63.0\n",
      "21      Aisha       12.00   64.0\n"
     ]
    }
   ],
   "source": [
    "# Alternatively, it might be important to ensure that you only use data you know to be absolutely correct; so you can drop rows or columns that contains null values by using the dropna method. In this case, we'll remove rows (axis 0 of the DataFrame) where any of the columns contain null values.\n",
    "df_students = df_students.dropna(axis=0, how='any')\n",
    "print(df_students)"
   ]
  },
  {
   "cell_type": "code",
   "execution_count": 29,
   "metadata": {},
   "outputs": [
    {
     "name": "stdout",
     "output_type": "stream",
     "text": [
      "Average Study Hours are: 10.522727272727273 \n",
      "Average Grade is: 49.18181818181818\n"
     ]
    }
   ],
   "source": [
    "# Now that we've cleaned up the missing values, we're ready to explore the data in the DataFrame. Let's start by comparing the mean study hours and grades.\n",
    "# Get the mean study hours using to column name as an index\n",
    "mean_study = df_students['StudyHours'].mean()\n",
    "# Get the mean grade using the column name as a property (just to make the point!)\n",
    "mean_grade = df_students['Grade'].mean()\n",
    "# Print the mean study hours and mean grade\n",
    "print(f'Average Study Hours are: {mean_study} \\nAverage Grade is: {mean_grade}')"
   ]
  },
  {
   "cell_type": "code",
   "execution_count": 30,
   "metadata": {},
   "outputs": [
    {
     "name": "stdout",
     "output_type": "stream",
     "text": [
      "         Name  StudyHours  Grade\n",
      "1       Joann       11.50   50.0\n",
      "3       Rosie       16.00   97.0\n",
      "6    Frederic       11.50   53.0\n",
      "9    Giovanni       14.50   74.0\n",
      "10  Francesca       15.50   82.0\n",
      "11      Rajab       13.75   62.0\n",
      "14      Jenny       15.50   70.0\n",
      "19       Skye       12.00   52.0\n",
      "20     Daniel       12.50   63.0\n",
      "21      Aisha       12.00   64.0\n"
     ]
    }
   ],
   "source": [
    "# OK, let's filter the DataFrame to find only the students who studied for more than the average amount of time.\n",
    "# Get students who studied for the mean or more hours\n",
    "print(df_students[df_students.StudyHours > mean_study])"
   ]
  },
  {
   "cell_type": "code",
   "execution_count": 31,
   "metadata": {},
   "outputs": [
    {
     "name": "stdout",
     "output_type": "stream",
     "text": [
      "66.7\n"
     ]
    }
   ],
   "source": [
    "# For example, let's find the average grade for students who undertook more than the average amount of study time.\n",
    "# What was their mean grade?\n",
    "print(df_students[df_students.StudyHours > mean_study].Grade.mean())"
   ]
  },
  {
   "cell_type": "code",
   "execution_count": 32,
   "metadata": {},
   "outputs": [
    {
     "name": "stdout",
     "output_type": "stream",
     "text": [
      "         Name  StudyHours  Grade   Pass\n",
      "0         Dan       10.00   50.0  False\n",
      "1       Joann       11.50   50.0  False\n",
      "2       Pedro        9.00   47.0  False\n",
      "3       Rosie       16.00   97.0   True\n",
      "4       Ethan        9.25   49.0  False\n",
      "5       Vicky        1.00    3.0  False\n",
      "6    Frederic       11.50   53.0  False\n",
      "7      Jimmie        9.00   42.0  False\n",
      "8      Rhonda        8.50   26.0  False\n",
      "9    Giovanni       14.50   74.0   True\n",
      "10  Francesca       15.50   82.0   True\n",
      "11      Rajab       13.75   62.0   True\n",
      "12    Naiyana        9.00   37.0  False\n",
      "13       Kian        8.00   15.0  False\n",
      "14      Jenny       15.50   70.0   True\n",
      "15     Jakeem        8.00   27.0  False\n",
      "16     Helena        9.00   36.0  False\n",
      "17      Ismat        6.00   35.0  False\n",
      "18      Anila       10.00   48.0  False\n",
      "19       Skye       12.00   52.0  False\n",
      "20     Daniel       12.50   63.0   True\n",
      "21      Aisha       12.00   64.0   True\n"
     ]
    }
   ],
   "source": [
    "# Let's assume that the passing grade for the course is 60.\n",
    "# We can use that information to add a new column to the DataFrame, indicating whether or not each student passed.\n",
    "# First, we'll create a Pandas Series containing the pass/fail indicator (True or False), and then we'll concatenate that series as a new column (axis 1) in the DataFrame.\n",
    "passes = pd.Series(df_students['Grade'] > 60)\n",
    "df_students = pd.concat([df_students,passes.rename(\"Pass\")], axis=1)\n",
    "\n",
    "print(df_students)"
   ]
  },
  {
   "cell_type": "code",
   "execution_count": 33,
   "metadata": {},
   "outputs": [
    {
     "name": "stdout",
     "output_type": "stream",
     "text": [
      "         Name  StudyHours  Grade   Pass\n",
      "3       Rosie       16.00   97.0   True\n",
      "10  Francesca       15.50   82.0   True\n",
      "9    Giovanni       14.50   74.0   True\n",
      "14      Jenny       15.50   70.0   True\n",
      "21      Aisha       12.00   64.0   True\n",
      "20     Daniel       12.50   63.0   True\n",
      "11      Rajab       13.75   62.0   True\n",
      "6    Frederic       11.50   53.0  False\n",
      "19       Skye       12.00   52.0  False\n",
      "1       Joann       11.50   50.0  False\n",
      "0         Dan       10.00   50.0  False\n",
      "4       Ethan        9.25   49.0  False\n",
      "18      Anila       10.00   48.0  False\n",
      "2       Pedro        9.00   47.0  False\n",
      "7      Jimmie        9.00   42.0  False\n",
      "12    Naiyana        9.00   37.0  False\n",
      "16     Helena        9.00   36.0  False\n",
      "17      Ismat        6.00   35.0  False\n",
      "15     Jakeem        8.00   27.0  False\n",
      "8      Rhonda        8.50   26.0  False\n",
      "13       Kian        8.00   15.0  False\n",
      "5       Vicky        1.00    3.0  False\n"
     ]
    }
   ],
   "source": [
    "# DataFrames are amazingly versatile, and make it easy to manipulate data. Most DataFrame operations return a new copy of the DataFrame; so if you want to modify a DataFrame but keep the existing variable, you need to assign the result of the operation to the existing variable. For example, the following code sorts the student data into descending order of Grade, and assigns the resulting sorted DataFrame to the original df_students variable.\n",
    "# Create a DataFrame with the data sorted by Grade (descending)\n",
    "df_students = df_students.sort_values('Grade', ascending=False)\n",
    "\n",
    "print(df_students)"
   ]
  },
  {
   "cell_type": "code",
   "execution_count": null,
   "metadata": {},
   "outputs": [],
   "source": [
    "#### VISULISATION BEGINS ######"
   ]
  },
  {
   "cell_type": "code",
   "execution_count": 37,
   "metadata": {},
   "outputs": [
    {
     "data": {
      "image/png": "[encoded data removed]",
      "text/plain": [
       "<Figure size 432x288 with 1 Axes>"
      ]
     },
     "metadata": {
      "needs_background": "light"
     },
     "output_type": "display_data"
    }
   ],
   "source": [
    "# Format Data for Downstream Visulisations\n",
    "df_students = pd.read_csv('data/grades.csv',delimiter=',',header='infer')\n",
    "df_students.StudyHours = df_students.StudyHours.fillna(df_students.StudyHours.mean())\n",
    "df_students = df_students.dropna(axis=0, how='any')\n",
    "passes = pd.Series(df_students['Grade'] > 60)\n",
    "df_students = pd.concat([df_students,passes.rename(\"Pass\")], axis=1)\n",
    "df_students = df_students.sort_values('Grade', ascending=False)\n",
    "# print(df_students)\n",
    "\n",
    "# Visualizing data with Matplotlib\n",
    "# Ensure plots are displayed inline in the notebook\n",
    "%matplotlib inline\n",
    "from matplotlib import pyplot as plt\n",
    "# Create a bar plot of name vs grade\n",
    "plt.bar(x=df_students.Name, height=df_students.Grade)\n",
    "# Display the plot\n",
    "plt.show()"
   ]
  },
  {
   "cell_type": "code",
   "execution_count": 51,
   "metadata": {},
   "outputs": [
    {
     "data": {
      "image/png": "[encoded data removed]",
      "text/plain": [
       "<Figure size 432x288 with 1 Axes>"
      ]
     },
     "metadata": {
      "needs_background": "light"
     },
     "output_type": "display_data"
    }
   ],
   "source": [
    "# Format Data for Downstream Visulisations\n",
    "df_students = pd.read_csv('data/grades.csv',delimiter=',',header='infer')\n",
    "df_students.StudyHours = df_students.StudyHours.fillna(df_students.StudyHours.mean())\n",
    "df_students = df_students.dropna(axis=0, how='any')\n",
    "passes = pd.Series(df_students['Grade'] > 60)\n",
    "df_students = pd.concat([df_students,passes.rename(\"Pass\")], axis=1)\n",
    "df_students = df_students.sort_values('Grade', ascending=False)\n",
    "\n",
    "# Well, that worked; but the chart could use some improvements to make it clearer what we're looking at.\n",
    "# Create a bar plot of name vs grade\n",
    "plt.bar(x=df_students.Name, height=df_students.Grade, color='green')\n",
    "# Customize the chart\n",
    "plt.title('Student Grades per Student')\n",
    "plt.xlabel('Student Name')\n",
    "plt.ylabel('Grade')\n",
    "plt.grid(color='#95a5a6', linestyle='--', linewidth=1, axis='y', alpha=0.7)\n",
    "plt.xticks(rotation=60)\n",
    "# Display the plot\n",
    "plt.show()"
   ]
  },
  {
   "cell_type": "code",
   "execution_count": 50,
   "metadata": {},
   "outputs": [
    {
     "data": {
      "image/png": "[encoded data removed]",
      "text/plain": [
       "<Figure size 576x216 with 1 Axes>"
      ]
     },
     "metadata": {
      "needs_background": "light"
     },
     "output_type": "display_data"
    }
   ],
   "source": [
    "# Format Data for Downstream Visulisations\n",
    "df_students = pd.read_csv('data/grades.csv',delimiter=',',header='infer')\n",
    "df_students.StudyHours = df_students.StudyHours.fillna(df_students.StudyHours.mean())\n",
    "df_students = df_students.dropna(axis=0, how='any')\n",
    "passes = pd.Series(df_students['Grade'] > 60)\n",
    "df_students = pd.concat([df_students,passes.rename(\"Pass\")], axis=1)\n",
    "df_students = df_students.sort_values('Grade', ascending=False)\n",
    "\n",
    "# A plot is technically contained with a Figure. In the previous examples, the figure was created implicitly for you; but you can create it explicitly. For example, the following code creates a figure with a specific size.\n",
    "# Create a Figure\n",
    "fig = plt.figure(figsize=(8,3))\n",
    "# Create a bar plot of name vs grade\n",
    "plt.bar(x=df_students.Name, height=df_students.Grade, color='orange')\n",
    "# Customize the chart\n",
    "plt.title('Student Grades')\n",
    "plt.xlabel('Student')\n",
    "plt.ylabel('Grade')\n",
    "plt.grid(color='#95a5a6', linestyle='--', linewidth=2, axis='y', alpha=0.7)\n",
    "plt.xticks(rotation=90)\n",
    "# Show the figure\n",
    "plt.show()"
   ]
  },
  {
   "cell_type": "code",
   "execution_count": 53,
   "metadata": {},
   "outputs": [
    {
     "name": "stderr",
     "output_type": "stream",
     "text": [
      "C:\\Users\\User\\anaconda3\\lib\\site-packages\\ipykernel_launcher.py:25: UserWarning: Matplotlib is currently using module://ipykernel.pylab.backend_inline, which is a non-GUI backend, so cannot show the figure.\n"
     ]
    },
    {
     "data": {
      "image/png": "[encoded data removed]",
      "text/plain": [
       "<Figure size 720x288 with 2 Axes>"
      ]
     },
     "metadata": {
      "needs_background": "light"
     },
     "output_type": "display_data"
    }
   ],
   "source": [
    "# Format Data for Downstream Visulisations\n",
    "df_students = pd.read_csv('data/grades.csv',delimiter=',',header='infer')\n",
    "df_students.StudyHours = df_students.StudyHours.fillna(df_students.StudyHours.mean())\n",
    "df_students = df_students.dropna(axis=0, how='any')\n",
    "passes = pd.Series(df_students['Grade'] > 60)\n",
    "df_students = pd.concat([df_students,passes.rename(\"Pass\")], axis=1)\n",
    "df_students = df_students.sort_values('Grade', ascending=False)\n",
    "\n",
    "# A figure can contain multiple subplots, each on its own axis.\n",
    "# For example, the following code creates a figure with two subplots - one is a bar chart showing student grades, and the other is a pie chart comparing the number of passing grades to non-passing grades.\n",
    "# Create a figure for 2 subplots (1 row, 2 columns)\n",
    "fig, ax = plt.subplots(1, 2, figsize = (10,4))\n",
    "# Create a bar plot of name vs grade on the first axis\n",
    "ax[0].bar(x=df_students.Name, height=df_students.Grade, color='orange')\n",
    "ax[0].set_title('Students Grades')\n",
    "ax[0].set_xticklabels(df_students.Name, rotation=90)\n",
    "# Create a pie chart of pass counts on the second axis\n",
    "pass_counts = df_students['Pass'].value_counts()\n",
    "ax[1].pie(pass_counts, labels=pass_counts)\n",
    "ax[1].set_title('Passing Grades')\n",
    "ax[1].legend(pass_counts.keys().tolist())\n",
    "# Add a title to the Figure\n",
    "fig.suptitle('Student Data')\n",
    "# Show the figure\n",
    "fig.show()"
   ]
  },
  {
   "cell_type": "code",
   "execution_count": 55,
   "metadata": {},
   "outputs": [
    {
     "data": {
      "text/plain": [
       "<matplotlib.axes._subplots.AxesSubplot at 0x27b12d87848>"
      ]
     },
     "execution_count": 55,
     "metadata": {},
     "output_type": "execute_result"
    },
    {
     "data": {
      "image/png": "[encoded data removed]",
      "text/plain": [
       "<Figure size 720x432 with 1 Axes>"
      ]
     },
     "metadata": {
      "needs_background": "light"
     },
     "output_type": "display_data"
    }
   ],
   "source": [
    "# Format Data for Downstream Visulisations\n",
    "df_students = pd.read_csv('data/grades.csv',delimiter=',',header='infer')\n",
    "df_students.StudyHours = df_students.StudyHours.fillna(df_students.StudyHours.mean())\n",
    "df_students = df_students.dropna(axis=0, how='any')\n",
    "passes = pd.Series(df_students['Grade'] > 60)\n",
    "df_students = pd.concat([df_students,passes.rename(\"Pass\")], axis=1)\n",
    "df_students = df_students.sort_values('Grade', ascending=False)\n",
    "\n",
    "# Until now, you've used methods of the Matplotlib.pyplot object to plot charts. However, Matplotlib is so foundational to graphics in Python that many packages, including Pandas, provide methods that abstract the underlying Matplotlib functions and simplify plotting. For example, the DataFrame provides its own methods for plotting data, as shown in the following example to plot a bar chart of study hours.\n",
    "df_students.plot.bar(x='Name', y='StudyHours', color='teal', figsize=(10,6))"
   ]
  },
  {
   "cell_type": "code",
   "execution_count": 56,
   "metadata": {},
   "outputs": [
    {
     "name": "stderr",
     "output_type": "stream",
     "text": [
      "C:\\Users\\User\\anaconda3\\lib\\site-packages\\ipykernel_launcher.py:22: UserWarning: Matplotlib is currently using module://ipykernel.pylab.backend_inline, which is a non-GUI backend, so cannot show the figure.\n"
     ]
    },
    {
     "data": {
      "image/png": "[encoded data removed]",
      "text/plain": [
       "<Figure size 720x288 with 1 Axes>"
      ]
     },
     "metadata": {
      "needs_background": "light"
     },
     "output_type": "display_data"
    }
   ],
   "source": [
    "# Format Data for Downstream Visulisations\n",
    "df_students = pd.read_csv('data/grades.csv',delimiter=',',header='infer')\n",
    "df_students.StudyHours = df_students.StudyHours.fillna(df_students.StudyHours.mean())\n",
    "df_students = df_students.dropna(axis=0, how='any')\n",
    "passes = pd.Series(df_students['Grade'] > 60)\n",
    "df_students = pd.concat([df_students,passes.rename(\"Pass\")], axis=1)\n",
    "df_students = df_students.sort_values('Grade', ascending=False)\n",
    "\n",
    "# Descriptive statistics and data distribution\n",
    "# When examining a variable (for example a sample of student grades), data scientists are particularly interested in its distribution (in other words, how are all the different grade values spread across the sample). The starting point for this exploration is often to visualize the data as a histogram, and see how frequently each value for the variable occurs.\n",
    "# Get the variable to examine\n",
    "var_data = df_students['Grade']\n",
    "# Create a Figure\n",
    "fig = plt.figure(figsize=(10,4))\n",
    "# Plot a histogram\n",
    "plt.hist(var_data)\n",
    "# Add titles and labels\n",
    "plt.title('Data Distribution')\n",
    "plt.xlabel('Value')\n",
    "plt.ylabel('Frequency')\n",
    "# Show the figure\n",
    "fig.show()"
   ]
  },
  {
   "cell_type": "code",
   "execution_count": 61,
   "metadata": {},
   "outputs": [
    {
     "name": "stderr",
     "output_type": "stream",
     "text": [
      "C:\\Users\\User\\anaconda3\\lib\\site-packages\\ipykernel_launcher.py:24: UserWarning: Matplotlib is currently using module://ipykernel.pylab.backend_inline, which is a non-GUI backend, so cannot show the figure.\n"
     ]
    },
    {
     "data": {
      "image/png": "[encoded data removed]",
      "text/plain": [
       "<Figure size 720x288 with 1 Axes>"
      ]
     },
     "metadata": {
      "needs_background": "light"
     },
     "output_type": "display_data"
    }
   ],
   "source": [
    "# Format Data for Downstream Visulisations\n",
    "df_students = pd.read_csv('data/grades.csv',delimiter=',',header='infer')\n",
    "df_students.StudyHours = df_students.StudyHours.fillna(df_students.StudyHours.mean())\n",
    "df_students = df_students.dropna(axis=0, how='any')\n",
    "passes = pd.Series(df_students['Grade'] > 60)\n",
    "df_students = pd.concat([df_students,passes.rename(\"Pass\")], axis=1)\n",
    "df_students = df_students.sort_values('Grade', ascending=False)\n",
    "\n",
    "# Descriptive statistics and data distribution\n",
    "# When examining a variable (for example a sample of student grades), data scientists are particularly interested in its distribution (in other words, how are all the different grade values spread across the sample). The starting point for this exploration is often to visualize the data as a histogram, and see how frequently each value for the variable occurs.\n",
    "# Get the variable to examine\n",
    "var_data = df_students['StudyHours']\n",
    "# Create a Figure\n",
    "fig = plt.figure(figsize=(10,4))\n",
    "# Plot a histogram\n",
    "plt.hist(var_data)\n",
    "# Add titles and labels\n",
    "plt.title('Data Distribution')\n",
    "plt.xlabel('Value')\n",
    "plt.ylabel('Frequency')\n",
    "# Add mean value (Guy Experiments)\n",
    "plt.axvline(x= df_students['StudyHours'].mean(), color = 'gray', linestyle='dashed', linewidth = 2)\n",
    "# Show the figure\n",
    "fig.show()"
   ]
  },
  {
   "cell_type": "code",
   "execution_count": 58,
   "metadata": {},
   "outputs": [
    {
     "name": "stdout",
     "output_type": "stream",
     "text": [
      "Minimum:3.00\n",
      "Mean:49.18\n",
      "Median:49.50\n",
      "Mode:50.00\n",
      "Maximum:97.00\n",
      "\n"
     ]
    },
    {
     "name": "stderr",
     "output_type": "stream",
     "text": [
      "C:\\Users\\User\\anaconda3\\lib\\site-packages\\ipykernel_launcher.py:40: UserWarning: Matplotlib is currently using module://ipykernel.pylab.backend_inline, which is a non-GUI backend, so cannot show the figure.\n"
     ]
    },
    {
     "data": {
      "image/png": "[encoded data removed]",
      "text/plain": [
       "<Figure size 720x288 with 1 Axes>"
      ]
     },
     "metadata": {
      "needs_background": "light"
     },
     "output_type": "display_data"
    }
   ],
   "source": [
    "# Format Data for Downstream Visulisations\n",
    "df_students = pd.read_csv('data/grades.csv',delimiter=',',header='infer')\n",
    "df_students.StudyHours = df_students.StudyHours.fillna(df_students.StudyHours.mean())\n",
    "df_students = df_students.dropna(axis=0, how='any')\n",
    "passes = pd.Series(df_students['Grade'] > 60)\n",
    "df_students = pd.concat([df_students,passes.rename(\"Pass\")], axis=1)\n",
    "df_students = df_students.sort_values('Grade', ascending=False)\n",
    "\n",
    "# To understand the distribution better, we can examine so-called measures of central tendency; which is a fancy way of describing statistics that represent the \"middle\" of the data. The goal of this is to try to find a \"typical\" value. Common ways to define the middle of the data include:\n",
    "# Let's calculate these values, along with the minimum and maximum values for comparison, and show them on the histogram.\n",
    "# Get the variable to examine\n",
    "var = df_students['Grade']\n",
    "# Get statistics\n",
    "min_val = var.min()\n",
    "max_val = var.max()\n",
    "mean_val = var.mean()\n",
    "med_val = var.median()\n",
    "mod_val = var.mode()[0]\n",
    "print('Minimum:{:.2f}\\nMean:{:.2f}\\nMedian:{:.2f}\\nMode:{:.2f}\\nMaximum:{:.2f}\\n'.format(min_val,\n",
    "                                                                                        mean_val,\n",
    "                                                                                        med_val,\n",
    "                                                                                        mod_val,\n",
    "                                                                                        max_val))\n",
    "\n",
    "# Create a Figure\n",
    "fig = plt.figure(figsize=(10,4))\n",
    "# Plot a histogram\n",
    "plt.hist(var)\n",
    "# Add lines for the statistics\n",
    "plt.axvline(x=min_val, color = 'gray', linestyle='dashed', linewidth = 2)\n",
    "plt.axvline(x=mean_val, color = 'cyan', linestyle='dashed', linewidth = 2)\n",
    "plt.axvline(x=med_val, color = 'red', linestyle='dashed', linewidth = 2)\n",
    "plt.axvline(x=mod_val, color = 'yellow', linestyle='dashed', linewidth = 2)\n",
    "plt.axvline(x=max_val, color = 'gray', linestyle='dashed', linewidth = 2)\n",
    "# Add titles and labels\n",
    "plt.title('Data Distribution')\n",
    "plt.xlabel('Value')\n",
    "plt.ylabel('Frequency')\n",
    "# Show the figure\n",
    "fig.show()"
   ]
  },
  {
   "cell_type": "code",
   "execution_count": 62,
   "metadata": {},
   "outputs": [
    {
     "name": "stderr",
     "output_type": "stream",
     "text": [
      "C:\\Users\\User\\anaconda3\\lib\\site-packages\\ipykernel_launcher.py:19: UserWarning: Matplotlib is currently using module://ipykernel.pylab.backend_inline, which is a non-GUI backend, so cannot show the figure.\n"
     ]
    },
    {
     "data": {
      "image/png": "[encoded data removed]",
      "text/plain": [
       "<Figure size 720x288 with 1 Axes>"
      ]
     },
     "metadata": {
      "needs_background": "light"
     },
     "output_type": "display_data"
    }
   ],
   "source": [
    "# Format Data for Downstream Visulisations\n",
    "df_students = pd.read_csv('data/grades.csv',delimiter=',',header='infer')\n",
    "df_students.StudyHours = df_students.StudyHours.fillna(df_students.StudyHours.mean())\n",
    "df_students = df_students.dropna(axis=0, how='any')\n",
    "passes = pd.Series(df_students['Grade'] > 60)\n",
    "df_students = pd.concat([df_students,passes.rename(\"Pass\")], axis=1)\n",
    "df_students = df_students.sort_values('Grade', ascending=False)\n",
    "\n",
    "# Another way to visualize the distribution of a variable is to use a box plot (sometimes called a box-and-whiskers plot). Let's create one for the grade data.\n",
    "# Get the variable to examine\n",
    "var = df_students['Grade']\n",
    "# Create a Figure\n",
    "fig = plt.figure(figsize=(10,4))\n",
    "# Plot a histogram\n",
    "plt.boxplot(var)\n",
    "# Add titles and labels\n",
    "plt.title('Data Distribution of Grades')\n",
    "# Show the figure\n",
    "fig.show()"
   ]
  },
  {
   "cell_type": "code",
   "execution_count": 68,
   "metadata": {},
   "outputs": [
    {
     "name": "stderr",
     "output_type": "stream",
     "text": [
      "C:\\Users\\User\\anaconda3\\lib\\site-packages\\ipykernel_launcher.py:19: UserWarning: Matplotlib is currently using module://ipykernel.pylab.backend_inline, which is a non-GUI backend, so cannot show the figure.\n"
     ]
    },
    {
     "data": {
      "image/png": "[encoded data removed]",
      "text/plain": [
       "<Figure size 720x288 with 1 Axes>"
      ]
     },
     "metadata": {
      "needs_background": "light"
     },
     "output_type": "display_data"
    }
   ],
   "source": [
    "# Format Data for Downstream Visulisations\n",
    "df_students = pd.read_csv('data/grades.csv',delimiter=',',header='infer')\n",
    "df_students.StudyHours = df_students.StudyHours.fillna(df_students.StudyHours.mean())\n",
    "df_students = df_students.dropna(axis=0, how='any')\n",
    "passes = pd.Series(df_students['Grade'] > 60)\n",
    "df_students = pd.concat([df_students,passes.rename(\"Pass\")], axis=1)\n",
    "df_students = df_students.sort_values('Grade', ascending=False)\n",
    "\n",
    "# Another way to visualize the distribution of a variable is to use a box plot (sometimes called a box-and-whiskers plot). Let's create one for the grade data.\n",
    "# Get the variable to examine\n",
    "var = df_students['StudyHours']\n",
    "# Create a Figure\n",
    "fig = plt.figure(figsize=(10,4))\n",
    "# Plot a histogram\n",
    "plt.boxplot(var)\n",
    "# Add titles and labels\n",
    "plt.title('Data Distribution of Study Hours')\n",
    "# Show the figure\n",
    "fig.show()"
   ]
  },
  {
   "cell_type": "code",
   "execution_count": 71,
   "metadata": {},
   "outputs": [
    {
     "name": "stdout",
     "output_type": "stream",
     "text": [
      "Minimum:3.00\n",
      "Mean:49.18\n",
      "Median:49.50\n",
      "Mode:50.00\n",
      "Maximum:97.00\n",
      "\n"
     ]
    },
    {
     "name": "stderr",
     "output_type": "stream",
     "text": [
      "C:\\Users\\User\\anaconda3\\lib\\site-packages\\ipykernel_launcher.py:43: UserWarning: Matplotlib is currently using module://ipykernel.pylab.backend_inline, which is a non-GUI backend, so cannot show the figure.\n"
     ]
    },
    {
     "data": {
      "image/png": "[encoded data removed]",
      "text/plain": [
       "<Figure size 720x288 with 2 Axes>"
      ]
     },
     "metadata": {
      "needs_background": "light"
     },
     "output_type": "display_data"
    }
   ],
   "source": [
    "# Format Data for Downstream Visulisations\n",
    "df_students = pd.read_csv('data/grades.csv',delimiter=',',header='infer')\n",
    "df_students.StudyHours = df_students.StudyHours.fillna(df_students.StudyHours.mean())\n",
    "df_students = df_students.dropna(axis=0, how='any')\n",
    "passes = pd.Series(df_students['Grade'] > 60)\n",
    "df_students = pd.concat([df_students,passes.rename(\"Pass\")], axis=1)\n",
    "df_students = df_students.sort_values('Grade', ascending=False)\n",
    "\n",
    "# It's often useful to combine histograms and box plots, with the box plot's orientation changed to align it with the histogram (in some ways, it can be helpful to think of the histogram as a \"front elevation\" view of the distribution, and the box plot as a \"plan\" view of the distribution from above.)\n",
    "# Get the variable to examine\n",
    "var_data = df_students['Grade']\n",
    "# Create a function that we can re-use\n",
    "def show_distribution(var_data):\n",
    "    from matplotlib import pyplot as plt\n",
    "    # Get statistics\n",
    "    min_val = var_data.min()\n",
    "    max_val = var_data.max()\n",
    "    mean_val = var_data.mean()\n",
    "    med_val = var_data.median()\n",
    "    mod_val = var_data.mode()[0]\n",
    "    print('Minimum:{:.2f}\\nMean:{:.2f}\\nMedian:{:.2f}\\nMode:{:.2f}\\nMaximum:{:.2f}\\n'.format(min_val,\n",
    "                                                                                            mean_val,\n",
    "                                                                                            med_val,\n",
    "                                                                                            mod_val,\n",
    "                                                                                            max_val))\n",
    "    # Create a figure for 2 subplots (2 rows, 1 column)\n",
    "    fig, ax = plt.subplots(2, 1, figsize = (10,4))\n",
    "    # Plot the histogram   \n",
    "    ax[0].hist(var_data)\n",
    "    ax[0].set_ylabel('Frequency')\n",
    "    # Add lines for the mean, median, and mode\n",
    "    ax[0].axvline(x=min_val, color = 'gray', linestyle='dashed', linewidth = 2)\n",
    "    ax[0].axvline(x=mean_val, color = 'cyan', linestyle='dashed', linewidth = 2)\n",
    "    ax[0].axvline(x=med_val, color = 'red', linestyle='dashed', linewidth = 2)\n",
    "    ax[0].axvline(x=mod_val, color = 'yellow', linestyle='dashed', linewidth = 2)\n",
    "    ax[0].axvline(x=max_val, color = 'gray', linestyle='dashed', linewidth = 2)\n",
    "    # Plot the boxplot   \n",
    "    ax[1].boxplot(var_data, vert=False)\n",
    "    ax[1].set_xlabel('Value')\n",
    "    # Add a title to the Figure\n",
    "    fig.suptitle('Grade Data Distribution')\n",
    "    # Show the figure\n",
    "    fig.show()\n",
    "# Get the variable to examine\n",
    "col = df_students['Grade']\n",
    "# Call the function\n",
    "show_distribution(col)"
   ]
  },
  {
   "cell_type": "code",
   "execution_count": 75,
   "metadata": {},
   "outputs": [
    {
     "data": {
      "image/png": "[encoded data removed]",
      "text/plain": [
       "<Figure size 720x288 with 1 Axes>"
      ]
     },
     "metadata": {
      "needs_background": "light"
     },
     "output_type": "display_data"
    }
   ],
   "source": [
    "# Format Data for Downstream Visulisations\n",
    "df_students = pd.read_csv('data/grades.csv',delimiter=',',header='infer')\n",
    "df_students.StudyHours = df_students.StudyHours.fillna(df_students.StudyHours.mean())\n",
    "df_students = df_students.dropna(axis=0, how='any')\n",
    "passes = pd.Series(df_students['Grade'] > 60)\n",
    "df_students = pd.concat([df_students,passes.rename(\"Pass\")], axis=1)\n",
    "df_students = df_students.sort_values('Grade', ascending=False)\n",
    "\n",
    "# To explore this distribution in more detail, you need to understand that statistics is fundamentally about taking samples of data and using probability functions to extrapolate information about the full population of data. For example, the student data consists of 22 samples, and for each sample there is a grade value. You can think of each sample grade as a variable that's been randomly selected from the set of all grades awarded for this course. With enough of these random variables, you can calculate something called a probability density function, which estimates the distribution of grades for the full population.\n",
    "var_data = df_students['Grade']\n",
    "# The Pandas DataFrame class provides a helpful plot function to show this density.\n",
    "def show_density(var_data):\n",
    "    from matplotlib import pyplot as plt\n",
    "    fig = plt.figure(figsize=(10,4))\n",
    "    # Plot density\n",
    "    var_data.plot.density()\n",
    "    # Add titles and labels\n",
    "    plt.title('Grade Data Density')\n",
    "    # Show the mean, median, and mode\n",
    "    plt.axvline(x=var_data.mean(), color = 'cyan', linestyle='dashed', linewidth = 2)\n",
    "    plt.axvline(x=var_data.median(), color = 'red', linestyle='dashed', linewidth = 2)\n",
    "    plt.axvline(x=var_data.mode()[0], color = 'yellow', linestyle='dashed', linewidth = 2)\n",
    "    plt.axvline(x=var_data.min(), color = 'blue', linestyle='dashed', linewidth = 2)\n",
    "    plt.axvline(x=var_data.max(), color = 'green', linestyle='dashed', linewidth = 2)\n",
    "    # Show the figure\n",
    "    plt.show()\n",
    "# Get the density of Grade\n",
    "col = df_students['Grade']\n",
    "show_density(col)"
   ]
  },
  {
   "cell_type": "code",
   "execution_count": 76,
   "metadata": {},
   "outputs": [
    {
     "name": "stdout",
     "output_type": "stream",
     "text": [
      "Minimum:1.00\n",
      "Mean:10.52\n",
      "Median:10.00\n",
      "Mode:9.00\n",
      "Maximum:16.00\n",
      "\n"
     ]
    },
    {
     "name": "stderr",
     "output_type": "stream",
     "text": [
      "C:\\Users\\User\\anaconda3\\lib\\site-packages\\ipykernel_launcher.py:43: UserWarning: Matplotlib is currently using module://ipykernel.pylab.backend_inline, which is a non-GUI backend, so cannot show the figure.\n"
     ]
    },
    {
     "data": {
      "image/png": "[encoded data removed]",
      "text/plain": [
       "<Figure size 720x288 with 2 Axes>"
      ]
     },
     "metadata": {
      "needs_background": "light"
     },
     "output_type": "display_data"
    }
   ],
   "source": [
    "# Format Data for Downstream Visulisations\n",
    "df_students = pd.read_csv('data/grades.csv',delimiter=',',header='infer')\n",
    "df_students.StudyHours = df_students.StudyHours.fillna(df_students.StudyHours.mean())\n",
    "df_students = df_students.dropna(axis=0, how='any')\n",
    "passes = pd.Series(df_students['Grade'] > 60)\n",
    "df_students = pd.concat([df_students,passes.rename(\"Pass\")], axis=1)\n",
    "df_students = df_students.sort_values('Grade', ascending=False)\n",
    "var_data = df_students['Grade']\n",
    "\n",
    "# As expected from the histogram of the sample, the density shows the characteristic 'bell curve\" of what statisticians call a normal distribution with the mean and mode at the center and symmetric tails.\n",
    "# Now let's take a look at the distribution of the study hours data.\n",
    "# Get the variable to examine\n",
    "col = df_students['StudyHours']\n",
    "# Call the function\n",
    "show_distribution(col)"
   ]
  },
  {
   "cell_type": "code",
   "execution_count": 77,
   "metadata": {},
   "outputs": [
    {
     "name": "stdout",
     "output_type": "stream",
     "text": [
      "Minimum:6.00\n",
      "Mean:10.98\n",
      "Median:10.00\n",
      "Mode:9.00\n",
      "Maximum:16.00\n",
      "\n"
     ]
    },
    {
     "name": "stderr",
     "output_type": "stream",
     "text": [
      "C:\\Users\\User\\anaconda3\\lib\\site-packages\\ipykernel_launcher.py:43: UserWarning: Matplotlib is currently using module://ipykernel.pylab.backend_inline, which is a non-GUI backend, so cannot show the figure.\n"
     ]
    },
    {
     "data": {
      "image/png": "[encoded data removed]",
      "text/plain": [
       "<Figure size 720x288 with 2 Axes>"
      ]
     },
     "metadata": {
      "needs_background": "light"
     },
     "output_type": "display_data"
    }
   ],
   "source": [
    "# Format Data for Downstream Visulisations\n",
    "df_students = pd.read_csv('data/grades.csv',delimiter=',',header='infer')\n",
    "df_students.StudyHours = df_students.StudyHours.fillna(df_students.StudyHours.mean())\n",
    "df_students = df_students.dropna(axis=0, how='any')\n",
    "passes = pd.Series(df_students['Grade'] > 60)\n",
    "df_students = pd.concat([df_students,passes.rename(\"Pass\")], axis=1)\n",
    "df_students = df_students.sort_values('Grade', ascending=False)\n",
    "var_data = df_students['Grade']\n",
    "col = df_students['StudyHours']\n",
    "\n",
    "# Outliers can occur for many reasons. Maybe a student meant to record \"10\" hours of study time, but entered \"1\" and missed the \"0\". Or maybe the student was abnormally lazy when it comes to studying! Either way, it's a statistical anomaly that doesn't represent a typical student. Let's see what the distribution looks like without it.\n",
    "# Get the variable to examine\n",
    "col = df_students[df_students.StudyHours>1]['StudyHours']\n",
    "# Call the function\n",
    "show_distribution(col)"
   ]
  },
  {
   "cell_type": "code",
   "execution_count": 79,
   "metadata": {},
   "outputs": [
    {
     "data": {
      "image/png": "[encoded data removed]",
      "text/plain": [
       "<Figure size 720x288 with 1 Axes>"
      ]
     },
     "metadata": {
      "needs_background": "light"
     },
     "output_type": "display_data"
    }
   ],
   "source": [
    "# Format Data for Downstream Visulisations\n",
    "df_students = pd.read_csv('data/grades.csv',delimiter=',',header='infer')\n",
    "df_students.StudyHours = df_students.StudyHours.fillna(df_students.StudyHours.mean())\n",
    "df_students = df_students.dropna(axis=0, how='any')\n",
    "passes = pd.Series(df_students['Grade'] > 60)\n",
    "df_students = pd.concat([df_students,passes.rename(\"Pass\")], axis=1)\n",
    "df_students = df_students.sort_values('Grade', ascending=False)\n",
    "var_data = df_students['Grade']\n",
    "col = df_students[df_students.StudyHours>1]['StudyHours']\n",
    "\n",
    "# Let's look at the density for this distribution.\n",
    "# Get the density of StudyHours\n",
    "show_density(col)"
   ]
  },
  {
   "cell_type": "code",
   "execution_count": 80,
   "metadata": {},
   "outputs": [
    {
     "name": "stdout",
     "output_type": "stream",
     "text": [
      "\n",
      "Grade:\n",
      " - Range: 94.00\n",
      " - Variance: 472.54\n",
      " - Std.Dev: 21.74\n",
      "\n",
      "StudyHours:\n",
      " - Range: 15.00\n",
      " - Variance: 12.16\n",
      " - Std.Dev: 3.49\n"
     ]
    },
    {
     "data": {
      "image/png": "[encoded data removed]",
      "text/plain": [
       "<Figure size 432x288 with 1 Axes>"
      ]
     },
     "metadata": {
      "needs_background": "light"
     },
     "output_type": "display_data"
    }
   ],
   "source": [
    "# Format Data for Downstream Visulisations\n",
    "df_students = pd.read_csv('data/grades.csv',delimiter=',',header='infer')\n",
    "df_students.StudyHours = df_students.StudyHours.fillna(df_students.StudyHours.mean())\n",
    "df_students = df_students.dropna(axis=0, how='any')\n",
    "passes = pd.Series(df_students['Grade'] > 60)\n",
    "df_students = pd.concat([df_students,passes.rename(\"Pass\")], axis=1)\n",
    "df_students = df_students.sort_values('Grade', ascending=False)\n",
    "var_data = df_students['Grade']\n",
    "col = df_students[df_students.StudyHours>1]['StudyHours']\n",
    "\n",
    "# So now we have a good idea where the middle of the grade and study hours data distributions are. However, there's another aspect of the distributions we should examine: how much variability is there in the data?\n",
    "# Typical statistics that measure variability in the data include:\n",
    "    # Range: The difference between the maximum and minimum. There's no built-in function for this, but it's easy to calculate using the min and max functions.\n",
    "    # Variance: The average of the squared difference from the mean. You can use the built-in var function to find this.\n",
    "    # Standard Deviation: The square root of the variance. You can use the built-in std function to find this.\n",
    "for col_name in ['Grade','StudyHours']:\n",
    "    col = df_students[col_name]\n",
    "    rng = col.max() - col.min()\n",
    "    var = col.var()\n",
    "    std = col.std()\n",
    "    print('\\n{}:\\n - Range: {:.2f}\\n - Variance: {:.2f}\\n - Std.Dev: {:.2f}'.format(col_name, rng, var, std))\n",
    "# When working with a normal distribution, the standard deviation works with the particular characteristics of a normal distribution to provide even greater insight. Run the cell below to see the relationship between standard deviations and the data in the normal distribution.\n",
    "import scipy.stats as stats\n",
    "# Get the Grade column\n",
    "col = df_students['Grade']\n",
    "# get the density\n",
    "density = stats.gaussian_kde(col)\n",
    "# Plot the density\n",
    "col.plot.density()\n",
    "# Get the mean and standard deviation\n",
    "s = col.std()\n",
    "m = col.mean()\n",
    "# Annotate 1 stdev\n",
    "x1 = [m-s, m+s]\n",
    "y1 = density(x1)\n",
    "plt.plot(x1,y1, color='magenta')\n",
    "plt.annotate('1 std (68.26%)', (x1[1],y1[1]))\n",
    "# Annotate 2 stdevs\n",
    "x2 = [m-(s*2), m+(s*2)]\n",
    "y2 = density(x2)\n",
    "plt.plot(x2,y2, color='green')\n",
    "plt.annotate('2 std (95.45%)', (x2[1],y2[1]))\n",
    "# Annotate 3 stdevs\n",
    "x3 = [m-(s*3), m+(s*3)]\n",
    "y3 = density(x3)\n",
    "plt.plot(x3,y3, color='orange')\n",
    "plt.annotate('3 std (99.73%)', (x3[1],y3[1]))\n",
    "# Show the location of the mean\n",
    "plt.axvline(col.mean(), color='cyan', linestyle='dashed', linewidth=1)\n",
    "plt.axis('off')\n",
    "plt.show()"
   ]
  },
  {
   "cell_type": "code",
   "execution_count": 81,
   "metadata": {},
   "outputs": [
    {
     "name": "stdout",
     "output_type": "stream",
     "text": [
      "       StudyHours      Grade\n",
      "count   22.000000  22.000000\n",
      "mean    10.522727  49.181818\n",
      "std      3.487144  21.737912\n",
      "min      1.000000   3.000000\n",
      "25%      9.000000  36.250000\n",
      "50%     10.000000  49.500000\n",
      "75%     12.375000  62.750000\n",
      "max     16.000000  97.000000\n"
     ]
    }
   ],
   "source": [
    "# Format Data for Downstream Visulisations\n",
    "df_students = pd.read_csv('data/grades.csv',delimiter=',',header='infer')\n",
    "df_students.StudyHours = df_students.StudyHours.fillna(df_students.StudyHours.mean())\n",
    "df_students = df_students.dropna(axis=0, how='any')\n",
    "passes = pd.Series(df_students['Grade'] > 60)\n",
    "df_students = pd.concat([df_students,passes.rename(\"Pass\")], axis=1)\n",
    "df_students = df_students.sort_values('Grade', ascending=False)\n",
    "var_data = df_students['Grade']\n",
    "col = df_students[df_students.StudyHours>1]['StudyHours']\n",
    "\n",
    "# The descriptive statistics we've used to understand the distribution of the student data variables are the basis of statistical analysis; and because they're such an important part of exploring your data, there's a built-in Describe method of the DataFrame object that returns the main descriptive statistics for all numeric columns.\n",
    "print(df_students.describe())\n"
   ]
  },
  {
   "cell_type": "code",
   "execution_count": 82,
   "metadata": {},
   "outputs": [
    {
     "name": "stdout",
     "output_type": "stream",
     "text": [
      "         Name  StudyHours  Grade   Pass\n",
      "3       Rosie       16.00   97.0   True\n",
      "10  Francesca       15.50   82.0   True\n",
      "9    Giovanni       14.50   74.0   True\n",
      "14      Jenny       15.50   70.0   True\n",
      "21      Aisha       12.00   64.0   True\n",
      "20     Daniel       12.50   63.0   True\n",
      "11      Rajab       13.75   62.0   True\n",
      "6    Frederic       11.50   53.0  False\n",
      "19       Skye       12.00   52.0  False\n",
      "1       Joann       11.50   50.0  False\n",
      "0         Dan       10.00   50.0  False\n",
      "4       Ethan        9.25   49.0  False\n",
      "18      Anila       10.00   48.0  False\n",
      "2       Pedro        9.00   47.0  False\n",
      "7      Jimmie        9.00   42.0  False\n",
      "12    Naiyana        9.00   37.0  False\n",
      "16     Helena        9.00   36.0  False\n",
      "17      Ismat        6.00   35.0  False\n",
      "15     Jakeem        8.00   27.0  False\n",
      "8      Rhonda        8.50   26.0  False\n",
      "13       Kian        8.00   15.0  False\n"
     ]
    }
   ],
   "source": [
    "# Format Data for Downstream Visulisations\n",
    "df_students = pd.read_csv('data/grades.csv',delimiter=',',header='infer')\n",
    "df_students.StudyHours = df_students.StudyHours.fillna(df_students.StudyHours.mean())\n",
    "df_students = df_students.dropna(axis=0, how='any')\n",
    "passes = pd.Series(df_students['Grade'] > 60)\n",
    "df_students = pd.concat([df_students,passes.rename(\"Pass\")], axis=1)\n",
    "df_students = df_students.sort_values('Grade', ascending=False)\n",
    "var_data = df_students['Grade']\n",
    "col = df_students[df_students.StudyHours>1]['StudyHours']\n",
    "\n",
    "# Comparing data\n",
    "# Now that you know something about the statistical distribution of the data in your dataset, you're ready to examine your data to identify any apparent relationships between variables.\n",
    "# First of all, let's get rid of any rows that contain outliers so that we have a sample that is representative of a typical class of students. We identified that the StudyHours column contains some outliers with extremely low values, so we'll remove those rows.\n",
    "df_sample = df_students[df_students['StudyHours']>1]\n",
    "print(df_sample)"
   ]
  },
  {
   "cell_type": "code",
   "execution_count": 85,
   "metadata": {},
   "outputs": [
    {
     "data": {
      "text/plain": [
       "<matplotlib.axes._subplots.AxesSubplot at 0x27b16672e08>"
      ]
     },
     "execution_count": 85,
     "metadata": {},
     "output_type": "execute_result"
    },
    {
     "data": {
      "image/png": "[encoded data removed]",
      "text/plain": [
       "<Figure size 576x360 with 1 Axes>"
      ]
     },
     "metadata": {
      "needs_background": "light"
     },
     "output_type": "display_data"
    }
   ],
   "source": [
    "# Format Data for Downstream Visulisations\n",
    "df_students = pd.read_csv('data/grades.csv',delimiter=',',header='infer')\n",
    "df_students.StudyHours = df_students.StudyHours.fillna(df_students.StudyHours.mean())\n",
    "df_students = df_students.dropna(axis=0, how='any')\n",
    "passes = pd.Series(df_students['Grade'] > 60)\n",
    "df_students = pd.concat([df_students,passes.rename(\"Pass\")], axis=1)\n",
    "df_students = df_students.sort_values('Grade', ascending=False)\n",
    "var_data = df_students['Grade']\n",
    "col = df_students[df_students.StudyHours>1]['StudyHours']\n",
    "\n",
    "# Comparing numeric and categorical variables\n",
    "# The data includes two numeric variables (StudyHours and Grade) and two categorical variables (Name and Pass). Let's start by comparing the numeric StudyHours column to the categorical Pass column to see if there's an apparent relationship between the number of hours studied and a passing grade.\n",
    "# To make this comparison, let's create box plots showing the distribution of StudyHours for each possible Pass value (true and false).\n",
    "df_sample.boxplot(column='StudyHours', by='Pass', figsize=(8,5))"
   ]
  },
  {
   "cell_type": "code",
   "execution_count": 86,
   "metadata": {},
   "outputs": [
    {
     "data": {
      "text/plain": [
       "<matplotlib.axes._subplots.AxesSubplot at 0x27b166ef488>"
      ]
     },
     "execution_count": 86,
     "metadata": {},
     "output_type": "execute_result"
    },
    {
     "data": {
      "image/png": "[encoded data removed]",
      "text/plain": [
       "<Figure size 576x360 with 1 Axes>"
      ]
     },
     "metadata": {
      "needs_background": "light"
     },
     "output_type": "display_data"
    }
   ],
   "source": [
    "# Format Data for Downstream Visulisations\n",
    "df_students = pd.read_csv('data/grades.csv',delimiter=',',header='infer')\n",
    "df_students.StudyHours = df_students.StudyHours.fillna(df_students.StudyHours.mean())\n",
    "df_students = df_students.dropna(axis=0, how='any')\n",
    "passes = pd.Series(df_students['Grade'] > 60)\n",
    "df_students = pd.concat([df_students,passes.rename(\"Pass\")], axis=1)\n",
    "df_students = df_students.sort_values('Grade', ascending=False)\n",
    "var_data = df_students['Grade']\n",
    "col = df_students[df_students.StudyHours>1]['StudyHours']\n",
    "\n",
    "# Comparing numeric variables\n",
    "# Now let's compare two numeric variables. We'll start by creating a bar chart that shows both grade and study hours.\n",
    "# Create a bar plot of name vs grade and study hours\n",
    "df_sample.plot(x='Name', y=['Grade','StudyHours'], kind='bar', figsize=(8,5))\n"
   ]
  },
  {
   "cell_type": "code",
   "execution_count": 87,
   "metadata": {},
   "outputs": [
    {
     "data": {
      "text/plain": [
       "<matplotlib.axes._subplots.AxesSubplot at 0x27b145d5948>"
      ]
     },
     "execution_count": 87,
     "metadata": {},
     "output_type": "execute_result"
    },
    {
     "data": {
      "image/png": "[encoded data removed]",
      "text/plain": [
       "<Figure size 576x360 with 1 Axes>"
      ]
     },
     "metadata": {
      "needs_background": "light"
     },
     "output_type": "display_data"
    }
   ],
   "source": [
    "# Format Data for Downstream Visulisations\n",
    "df_students = pd.read_csv('data/grades.csv',delimiter=',',header='infer')\n",
    "df_students.StudyHours = df_students.StudyHours.fillna(df_students.StudyHours.mean())\n",
    "df_students = df_students.dropna(axis=0, how='any')\n",
    "passes = pd.Series(df_students['Grade'] > 60)\n",
    "df_students = pd.concat([df_students,passes.rename(\"Pass\")], axis=1)\n",
    "df_students = df_students.sort_values('Grade', ascending=False)\n",
    "var_data = df_students['Grade']\n",
    "col = df_students[df_students.StudyHours>1]['StudyHours']\n",
    "\n",
    "# A common technique when dealing with numeric data in different scales is to normalize the data so that the values retain their proportional distribution, but are measured on the same scale. To accomplish this, we'll use a technique called MinMax scaling that distributes the values proportionally on a scale of 0 to 1. You could write the code to apply this transformation; but the Scikit-Learn library provides a scaler to do it for you.\n",
    "from sklearn.preprocessing import MinMaxScaler\n",
    "\n",
    "# Get a scaler object\n",
    "scaler = MinMaxScaler()\n",
    "\n",
    "# Create a new dataframe for the scaled values\n",
    "df_normalized = df_sample[['Name', 'Grade', 'StudyHours']].copy()\n",
    "\n",
    "# Normalize the numeric columns\n",
    "df_normalized[['Grade','StudyHours']] = scaler.fit_transform(df_normalized[['Grade','StudyHours']])\n",
    "\n",
    "# Plot the normalized values\n",
    "df_normalized.plot(x='Name', y=['Grade','StudyHours'], kind='bar', figsize=(8,5))"
   ]
  },
  {
   "cell_type": "code",
   "execution_count": 88,
   "metadata": {},
   "outputs": [
    {
     "data": {
      "text/plain": [
       "0.9117666413789675"
      ]
     },
     "execution_count": 88,
     "metadata": {},
     "output_type": "execute_result"
    }
   ],
   "source": [
    "# Format Data for Downstream Visulisations\n",
    "df_students = pd.read_csv('data/grades.csv',delimiter=',',header='infer')\n",
    "df_students.StudyHours = df_students.StudyHours.fillna(df_students.StudyHours.mean())\n",
    "df_students = df_students.dropna(axis=0, how='any')\n",
    "passes = pd.Series(df_students['Grade'] > 60)\n",
    "df_students = pd.concat([df_students,passes.rename(\"Pass\")], axis=1)\n",
    "df_students = df_students.sort_values('Grade', ascending=False)\n",
    "var_data = df_students['Grade']\n",
    "col = df_students[df_students.StudyHours>1]['StudyHours']\n",
    "\n",
    "# A common technique when dealing with numeric data in different scales is to normalize the data so that the values retain their proportional distribution, but are measured on the same scale. To accomplish this, we'll use a technique called MinMax scaling that distributes the values proportionally on a scale of 0 to 1. You could write the code to apply this transformation; but the Scikit-Learn library provides a scaler to do it for you.\n",
    "from sklearn.preprocessing import MinMaxScaler\n",
    "\n",
    "# Get a scaler object\n",
    "scaler = MinMaxScaler()\n",
    "\n",
    "# Create a new dataframe for the scaled values\n",
    "df_normalized = df_sample[['Name', 'Grade', 'StudyHours']].copy()\n",
    "\n",
    "# Normalize the numeric columns\n",
    "df_normalized[['Grade','StudyHours']] = scaler.fit_transform(df_normalized[['Grade','StudyHours']])\n",
    "\n",
    "df_normalized.Grade.corr(df_normalized.StudyHours)"
   ]
  },
  {
   "cell_type": "code",
   "execution_count": 89,
   "metadata": {},
   "outputs": [
    {
     "data": {
      "text/plain": [
       "<matplotlib.axes._subplots.AxesSubplot at 0x27b15318548>"
      ]
     },
     "execution_count": 89,
     "metadata": {},
     "output_type": "execute_result"
    },
    {
     "data": {
      "image/png": "[encoded data removed]",
      "text/plain": [
       "<Figure size 432x288 with 1 Axes>"
      ]
     },
     "metadata": {
      "needs_background": "light"
     },
     "output_type": "display_data"
    }
   ],
   "source": [
    "# Format Data for Downstream Visulisations\n",
    "df_students = pd.read_csv('data/grades.csv',delimiter=',',header='infer')\n",
    "df_students.StudyHours = df_students.StudyHours.fillna(df_students.StudyHours.mean())\n",
    "df_students = df_students.dropna(axis=0, how='any')\n",
    "passes = pd.Series(df_students['Grade'] > 60)\n",
    "df_students = pd.concat([df_students,passes.rename(\"Pass\")], axis=1)\n",
    "df_students = df_students.sort_values('Grade', ascending=False)\n",
    "var_data = df_students['Grade']\n",
    "col = df_students[df_students.StudyHours>1]['StudyHours']\n",
    "\n",
    "# Another way to visualise the apparent correlation between two numeric columns is to use a *scatter* plot.\n",
    "# Create a scatter plot\n",
    "df_sample.plot.scatter(title='Study Time vs Grade', x='StudyHours', y='Grade')"
   ]
  },
  {
   "cell_type": "code",
   "execution_count": 90,
   "metadata": {},
   "outputs": [
    {
     "name": "stdout",
     "output_type": "stream",
     "text": [
      "slope: 6.3134\n",
      "y-intercept: -17.9164\n",
      "so...\n",
      " f(x) = 6.3134x + -17.9164\n"
     ]
    },
    {
     "data": {
      "image/png": "[encoded data removed]",
      "text/plain": [
       "<Figure size 432x288 with 1 Axes>"
      ]
     },
     "metadata": {
      "needs_background": "light"
     },
     "output_type": "display_data"
    }
   ],
   "source": [
    "# Format Data for Downstream Visulisations\n",
    "df_students = pd.read_csv('data/grades.csv',delimiter=',',header='infer')\n",
    "df_students.StudyHours = df_students.StudyHours.fillna(df_students.StudyHours.mean())\n",
    "df_students = df_students.dropna(axis=0, how='any')\n",
    "passes = pd.Series(df_students['Grade'] > 60)\n",
    "df_students = pd.concat([df_students,passes.rename(\"Pass\")], axis=1)\n",
    "df_students = df_students.sort_values('Grade', ascending=False)\n",
    "var_data = df_students['Grade']\n",
    "col = df_students[df_students.StudyHours>1]['StudyHours']\n",
    "\n",
    "# We can see this more clearly by adding a regression line (or a line of best fit) to the plot that shows the general trend in the data. To do this, we'll use a statistical technique called least squares regression.\n",
    "# Fortunately, you don't need to code the regression calculation yourself - the SciPy package includes a stats class that provides a linregress method to do the hard work for you. This returns (among other things) the coefficients you need for the slope equation - slope (m) and intercept (b) based on a given pair of variable samples you want to compare.\n",
    "from scipy import stats\n",
    "\n",
    "# Assign the variable\n",
    "df_regression = df_sample[['Grade', 'StudyHours']].copy()\n",
    "\n",
    "# Get the regression slope and intercept\n",
    "m, b, r, p, se = stats.linregress(df_regression['StudyHours'], df_regression['Grade'])\n",
    "print('slope: {:.4f}\\ny-intercept: {:.4f}'.format(m,b))\n",
    "print('so...\\n f(x) = {:.4f}x + {:.4f}'.format(m,b))\n",
    "\n",
    "# Use the function (mx + b) to calculate f(x) for each x (StudyHours) value\n",
    "df_regression['fx'] = (m * df_regression['StudyHours']) + b\n",
    "\n",
    "# Calculate the error between f(x) and the actual y (Grade) value\n",
    "df_regression['error'] = df_regression['fx'] - df_regression['Grade']\n",
    "\n",
    "# Create a scatter plot of Grade vs Salary\n",
    "df_regression.plot.scatter(x='StudyHours', y='Grade')\n",
    "\n",
    "# Plot the regression line\n",
    "plt.plot(df_regression['StudyHours'],df_regression['fx'], color='cyan')\n",
    "\n",
    "# Display the plot\n",
    "plt.show()"
   ]
  },
  {
   "cell_type": "code",
   "execution_count": 92,
   "metadata": {},
   "outputs": [
    {
     "name": "stdout",
     "output_type": "stream",
     "text": [
      "slope: 6.3134\n",
      "y-intercept: -17.9164\n",
      "so...\n",
      " f(x) = 6.3134x + -17.9164\n"
     ]
    },
    {
     "data": {
      "text/html": [
       "<div>\n",
       "<style scoped>\n",
       "    .dataframe tbody tr th:only-of-type {\n",
       "        vertical-align: middle;\n",
       "    }\n",
       "\n",
       "    .dataframe tbody tr th {\n",
       "        vertical-align: top;\n",
       "    }\n",
       "\n",
       "    .dataframe thead th {\n",
       "        text-align: right;\n",
       "    }\n",
       "</style>\n",
       "<table border=\"1\" class=\"dataframe\">\n",
       "  <thead>\n",
       "    <tr style=\"text-align: right;\">\n",
       "      <th></th>\n",
       "      <th>StudyHours</th>\n",
       "      <th>Grade</th>\n",
       "      <th>fx</th>\n",
       "      <th>error</th>\n",
       "    </tr>\n",
       "  </thead>\n",
       "  <tbody>\n",
       "    <tr>\n",
       "      <th>3</th>\n",
       "      <td>16.00</td>\n",
       "      <td>97.0</td>\n",
       "      <td>83.098400</td>\n",
       "      <td>-13.901600</td>\n",
       "    </tr>\n",
       "    <tr>\n",
       "      <th>10</th>\n",
       "      <td>15.50</td>\n",
       "      <td>82.0</td>\n",
       "      <td>79.941687</td>\n",
       "      <td>-2.058313</td>\n",
       "    </tr>\n",
       "    <tr>\n",
       "      <th>9</th>\n",
       "      <td>14.50</td>\n",
       "      <td>74.0</td>\n",
       "      <td>73.628262</td>\n",
       "      <td>-0.371738</td>\n",
       "    </tr>\n",
       "    <tr>\n",
       "      <th>14</th>\n",
       "      <td>15.50</td>\n",
       "      <td>70.0</td>\n",
       "      <td>79.941687</td>\n",
       "      <td>9.941687</td>\n",
       "    </tr>\n",
       "    <tr>\n",
       "      <th>21</th>\n",
       "      <td>12.00</td>\n",
       "      <td>64.0</td>\n",
       "      <td>57.844698</td>\n",
       "      <td>-6.155302</td>\n",
       "    </tr>\n",
       "    <tr>\n",
       "      <th>20</th>\n",
       "      <td>12.50</td>\n",
       "      <td>63.0</td>\n",
       "      <td>61.001410</td>\n",
       "      <td>-1.998590</td>\n",
       "    </tr>\n",
       "    <tr>\n",
       "      <th>11</th>\n",
       "      <td>13.75</td>\n",
       "      <td>62.0</td>\n",
       "      <td>68.893193</td>\n",
       "      <td>6.893193</td>\n",
       "    </tr>\n",
       "    <tr>\n",
       "      <th>6</th>\n",
       "      <td>11.50</td>\n",
       "      <td>53.0</td>\n",
       "      <td>54.687985</td>\n",
       "      <td>1.687985</td>\n",
       "    </tr>\n",
       "    <tr>\n",
       "      <th>19</th>\n",
       "      <td>12.00</td>\n",
       "      <td>52.0</td>\n",
       "      <td>57.844698</td>\n",
       "      <td>5.844698</td>\n",
       "    </tr>\n",
       "    <tr>\n",
       "      <th>1</th>\n",
       "      <td>11.50</td>\n",
       "      <td>50.0</td>\n",
       "      <td>54.687985</td>\n",
       "      <td>4.687985</td>\n",
       "    </tr>\n",
       "    <tr>\n",
       "      <th>0</th>\n",
       "      <td>10.00</td>\n",
       "      <td>50.0</td>\n",
       "      <td>45.217846</td>\n",
       "      <td>-4.782154</td>\n",
       "    </tr>\n",
       "    <tr>\n",
       "      <th>4</th>\n",
       "      <td>9.25</td>\n",
       "      <td>49.0</td>\n",
       "      <td>40.482777</td>\n",
       "      <td>-8.517223</td>\n",
       "    </tr>\n",
       "    <tr>\n",
       "      <th>18</th>\n",
       "      <td>10.00</td>\n",
       "      <td>48.0</td>\n",
       "      <td>45.217846</td>\n",
       "      <td>-2.782154</td>\n",
       "    </tr>\n",
       "    <tr>\n",
       "      <th>2</th>\n",
       "      <td>9.00</td>\n",
       "      <td>47.0</td>\n",
       "      <td>38.904421</td>\n",
       "      <td>-8.095579</td>\n",
       "    </tr>\n",
       "    <tr>\n",
       "      <th>7</th>\n",
       "      <td>9.00</td>\n",
       "      <td>42.0</td>\n",
       "      <td>38.904421</td>\n",
       "      <td>-3.095579</td>\n",
       "    </tr>\n",
       "    <tr>\n",
       "      <th>12</th>\n",
       "      <td>9.00</td>\n",
       "      <td>37.0</td>\n",
       "      <td>38.904421</td>\n",
       "      <td>1.904421</td>\n",
       "    </tr>\n",
       "    <tr>\n",
       "      <th>16</th>\n",
       "      <td>9.00</td>\n",
       "      <td>36.0</td>\n",
       "      <td>38.904421</td>\n",
       "      <td>2.904421</td>\n",
       "    </tr>\n",
       "    <tr>\n",
       "      <th>17</th>\n",
       "      <td>6.00</td>\n",
       "      <td>35.0</td>\n",
       "      <td>19.964144</td>\n",
       "      <td>-15.035856</td>\n",
       "    </tr>\n",
       "    <tr>\n",
       "      <th>15</th>\n",
       "      <td>8.00</td>\n",
       "      <td>27.0</td>\n",
       "      <td>32.590995</td>\n",
       "      <td>5.590995</td>\n",
       "    </tr>\n",
       "    <tr>\n",
       "      <th>8</th>\n",
       "      <td>8.50</td>\n",
       "      <td>26.0</td>\n",
       "      <td>35.747708</td>\n",
       "      <td>9.747708</td>\n",
       "    </tr>\n",
       "    <tr>\n",
       "      <th>13</th>\n",
       "      <td>8.00</td>\n",
       "      <td>15.0</td>\n",
       "      <td>32.590995</td>\n",
       "      <td>17.590995</td>\n",
       "    </tr>\n",
       "  </tbody>\n",
       "</table>\n",
       "</div>"
      ],
      "text/plain": [
       "    StudyHours  Grade         fx      error\n",
       "3        16.00   97.0  83.098400 -13.901600\n",
       "10       15.50   82.0  79.941687  -2.058313\n",
       "9        14.50   74.0  73.628262  -0.371738\n",
       "14       15.50   70.0  79.941687   9.941687\n",
       "21       12.00   64.0  57.844698  -6.155302\n",
       "20       12.50   63.0  61.001410  -1.998590\n",
       "11       13.75   62.0  68.893193   6.893193\n",
       "6        11.50   53.0  54.687985   1.687985\n",
       "19       12.00   52.0  57.844698   5.844698\n",
       "1        11.50   50.0  54.687985   4.687985\n",
       "0        10.00   50.0  45.217846  -4.782154\n",
       "4         9.25   49.0  40.482777  -8.517223\n",
       "18       10.00   48.0  45.217846  -2.782154\n",
       "2         9.00   47.0  38.904421  -8.095579\n",
       "7         9.00   42.0  38.904421  -3.095579\n",
       "12        9.00   37.0  38.904421   1.904421\n",
       "16        9.00   36.0  38.904421   2.904421\n",
       "17        6.00   35.0  19.964144 -15.035856\n",
       "15        8.00   27.0  32.590995   5.590995\n",
       "8         8.50   26.0  35.747708   9.747708\n",
       "13        8.00   15.0  32.590995  17.590995"
      ]
     },
     "execution_count": 92,
     "metadata": {},
     "output_type": "execute_result"
    }
   ],
   "source": [
    "# Format Data for Downstream Visulisations\n",
    "df_students = pd.read_csv('data/grades.csv',delimiter=',',header='infer')\n",
    "df_students.StudyHours = df_students.StudyHours.fillna(df_students.StudyHours.mean())\n",
    "df_students = df_students.dropna(axis=0, how='any')\n",
    "passes = pd.Series(df_students['Grade'] > 60)\n",
    "df_students = pd.concat([df_students,passes.rename(\"Pass\")], axis=1)\n",
    "df_students = df_students.sort_values('Grade', ascending=False)\n",
    "var_data = df_students['Grade']\n",
    "col = df_students[df_students.StudyHours>1]['StudyHours']\n",
    "\n",
    "# We can see this more clearly by adding a regression line (or a line of best fit) to the plot that shows the general trend in the data. To do this, we'll use a statistical technique called least squares regression.\n",
    "# Fortunately, you don't need to code the regression calculation yourself - the SciPy package includes a stats class that provides a linregress method to do the hard work for you. This returns (among other things) the coefficients you need for the slope equation - slope (m) and intercept (b) based on a given pair of variable samples you want to compare.\n",
    "from scipy import stats\n",
    "\n",
    "# Assign the variable\n",
    "df_regression = df_sample[['Grade', 'StudyHours']].copy()\n",
    "\n",
    "# Get the regression slope and intercept\n",
    "m, b, r, p, se = stats.linregress(df_regression['StudyHours'], df_regression['Grade'])\n",
    "print('slope: {:.4f}\\ny-intercept: {:.4f}'.format(m,b))\n",
    "print('so...\\n f(x) = {:.4f}x + {:.4f}'.format(m,b))\n",
    "\n",
    "# Use the function (mx + b) to calculate f(x) for each x (StudyHours) value\n",
    "df_regression['fx'] = (m * df_regression['StudyHours']) + b\n",
    "\n",
    "# Calculate the error between f(x) and the actual y (Grade) value\n",
    "df_regression['error'] = df_regression['fx'] - df_regression['Grade']\n",
    "\n",
    "# Some of the errors, particularly at the extreme ends, and quite large (up to over 17.5 grade points); but in general, the line is pretty close to the actual grades\n",
    "# Show the original x,y values, the f(x) value, and the error\n",
    "df_regression[['StudyHours', 'Grade', 'fx', 'error']]"
   ]
  },
  {
   "cell_type": "code",
   "execution_count": 93,
   "metadata": {},
   "outputs": [
    {
     "name": "stdout",
     "output_type": "stream",
     "text": [
      "Studying for 14 hours per week may result in a grade of 70\n"
     ]
    }
   ],
   "source": [
    "# Format Data for Downstream Visulisations\n",
    "df_students = pd.read_csv('data/grades.csv',delimiter=',',header='infer')\n",
    "df_students.StudyHours = df_students.StudyHours.fillna(df_students.StudyHours.mean())\n",
    "df_students = df_students.dropna(axis=0, how='any')\n",
    "passes = pd.Series(df_students['Grade'] > 60)\n",
    "df_students = pd.concat([df_students,passes.rename(\"Pass\")], axis=1)\n",
    "df_students = df_students.sort_values('Grade', ascending=False)\n",
    "var_data = df_students['Grade']\n",
    "col = df_students[df_students.StudyHours>1]['StudyHours']\n",
    "\n",
    "# Using the regression coefficients for prediction\n",
    "# Now that you have the regression coefficients for the study time and grade relationship, you can use them in a function to estimate the expected grade for a given amount of study.\n",
    "\n",
    "# Define a function based on our regression coefficients\n",
    "def f(x):\n",
    "    m = 6.3134\n",
    "    b = -17.9164\n",
    "    return m*x + b\n",
    "\n",
    "study_time = 14\n",
    "\n",
    "# Get f(x) for study time\n",
    "prediction = f(study_time)\n",
    "\n",
    "# Grade can't be less than 0 or more than 100\n",
    "expected_grade = max(0,min(100,prediction))\n",
    "\n",
    "# Print the estimated grade\n",
    "print ('Studying for {} hours per week may result in a grade of {:.0f}'.format(study_time, expected_grade))"
   ]
  },
  {
   "cell_type": "code",
   "execution_count": null,
   "metadata": {},
   "outputs": [],
   "source": []
  }
 ],
 "metadata": {
  "kernelspec": {
   "display_name": "Python 3",
   "language": "python",
   "name": "python3"
  },
  "language_info": {
   "codemirror_mode": {
    "name": "ipython",
    "version": 3
   },
   "file_extension": ".py",
   "mimetype": "text/x-python",
   "name": "python",
   "nbconvert_exporter": "python",
   "pygments_lexer": "ipython3",
   "version": "3.7.6"
  }
 },
 "nbformat": 4,
 "nbformat_minor": 4
}
